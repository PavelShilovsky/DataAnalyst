{
 "cells": [
  {
   "cell_type": "markdown",
   "metadata": {},
   "source": [
    "# Определение перспективного тарифа для телеком компании"
   ]
  },
  {
   "cell_type": "markdown",
   "metadata": {},
   "source": [
    "Вы аналитик компании «Мегалайн» — федерального оператора сотовой связи. Клиентам предлагают два тарифных плана: «Смарт» и «Ультра». Чтобы скорректировать рекламный бюджет, коммерческий департамент хочет понять, какой тариф приносит больше денег.\n",
    "Вам предстоит сделать предварительный анализ тарифов на небольшой выборке клиентов. В вашем распоряжении данные 500 пользователей «Мегалайна»: кто они, откуда, каким тарифом пользуются, сколько звонков и сообщений каждый отправил за 2018 год. Нужно проанализировать поведение клиентов и сделать вывод — какой тариф лучше."
   ]
  },
  {
   "cell_type": "markdown",
   "metadata": {},
   "source": [
    "### Описание данных:\n",
    "##### Таблица users (информация о пользователях):\n",
    "- user_id — уникальный идентификатор пользователя\n",
    "- first_name — имя пользователя\n",
    "- last_name — фамилия пользователя\n",
    "- age — возраст пользователя (годы)\n",
    "- reg_date — дата подключения тарифа (день, месяц, год)\n",
    "- churn_date — дата прекращения пользования тарифом (если значение пропущено, то тариф ещё действовал на момент выгрузки данных)\n",
    "- city — город проживания пользователя\n",
    "- tariff — название тарифного плана\n",
    "\n",
    "##### Таблица calls (информация о звонках):\n",
    "- id — уникальный номер звонка\n",
    "- call_date — дата звонка\n",
    "- duration — длительность звонка в минутах\n",
    "- user_id — идентификатор пользователя, сделавшего звонок\n",
    "\n",
    "##### Таблица messages (информация о сообщениях):\n",
    "- id — уникальный номер сообщения\n",
    "- message_date — дата сообщения\n",
    "- user_id — идентификатор пользователя, отправившего сообщение\n",
    "\n",
    "##### Таблица internet (информация об интернет-сессиях):\n",
    "- id — уникальный номер сессии\n",
    "- mb_used — объём потраченного за сессию интернет-трафика (в мегабайтах)\n",
    "- session_date — дата интернет-сессии\n",
    "- user_id — идентификатор пользователя\n",
    "\n",
    "##### Таблица tariffs (информация о тарифах):\n",
    "- tariff_name — название тарифа\n",
    "- rub_monthly_fee — ежемесячная абонентская плата в рублях\n",
    "- minutes_included — количество минут разговора в месяц, включённых в абонентскую плату\n",
    "- messages_included — количество сообщений в месяц, включённых в абонентскую плату\n",
    "- mb_per_month_included — объём интернет-трафика, включённого в абонентскую плату (в мегабайтах)\n",
    "- rub_per_minute — стоимость минуты разговора сверх тарифного пакета (например, если в тарифе 100 минут разговора в месяц, то со 101 минуты будет взиматься плата)\n",
    "- rub_per_message — стоимость отправки сообщения сверх тарифного пакета\n",
    "- rub_per_gb — стоимость дополнительного гигабайта интернет-трафика сверх тарифного пакета (1 гигабайт = 1024 мегабайта)"
   ]
  },
  {
   "cell_type": "markdown",
   "metadata": {},
   "source": [
    "### Шаг 1. Откройте файл с данными и изучите общую информацию."
   ]
  },
  {
   "cell_type": "code",
   "execution_count": 16,
   "metadata": {},
   "outputs": [],
   "source": [
    "import pandas as pd\n",
    "import numpy as np\n",
    "import matplotlib.pyplot as plt"
   ]
  },
  {
   "cell_type": "code",
   "execution_count": 17,
   "metadata": {},
   "outputs": [],
   "source": [
    "calls = pd.read_csv('/datasets/calls.csv', sep=',')\n",
    "internet = pd.read_csv('/datasets/internet.csv', sep=',')\n",
    "messages = pd.read_csv('/datasets/messages.csv', sep=',')\n",
    "tariffs = pd.read_csv('/datasets/tariffs.csv', sep=',')\n",
    "users = pd.read_csv('/datasets/users.csv', sep=',')"
   ]
  },
  {
   "cell_type": "markdown",
   "metadata": {},
   "source": [
    "Получим общую информацию о данных"
   ]
  },
  {
   "cell_type": "code",
   "execution_count": 18,
   "metadata": {
    "scrolled": true
   },
   "outputs": [
    {
     "name": "stdout",
     "output_type": "stream",
     "text": [
      "<class 'pandas.core.frame.DataFrame'>\n",
      "RangeIndex: 202607 entries, 0 to 202606\n",
      "Data columns (total 4 columns):\n",
      "id           202607 non-null object\n",
      "call_date    202607 non-null object\n",
      "duration     202607 non-null float64\n",
      "user_id      202607 non-null int64\n",
      "dtypes: float64(1), int64(1), object(2)\n",
      "memory usage: 6.2+ MB\n"
     ]
    }
   ],
   "source": [
    "calls.info()"
   ]
  },
  {
   "cell_type": "code",
   "execution_count": 19,
   "metadata": {},
   "outputs": [
    {
     "data": {
      "text/html": [
       "<div>\n",
       "<style scoped>\n",
       "    .dataframe tbody tr th:only-of-type {\n",
       "        vertical-align: middle;\n",
       "    }\n",
       "\n",
       "    .dataframe tbody tr th {\n",
       "        vertical-align: top;\n",
       "    }\n",
       "\n",
       "    .dataframe thead th {\n",
       "        text-align: right;\n",
       "    }\n",
       "</style>\n",
       "<table border=\"1\" class=\"dataframe\">\n",
       "  <thead>\n",
       "    <tr style=\"text-align: right;\">\n",
       "      <th></th>\n",
       "      <th>id</th>\n",
       "      <th>call_date</th>\n",
       "      <th>duration</th>\n",
       "      <th>user_id</th>\n",
       "    </tr>\n",
       "  </thead>\n",
       "  <tbody>\n",
       "    <tr>\n",
       "      <td>0</td>\n",
       "      <td>1000_0</td>\n",
       "      <td>2018-07-25</td>\n",
       "      <td>0.00</td>\n",
       "      <td>1000</td>\n",
       "    </tr>\n",
       "    <tr>\n",
       "      <td>1</td>\n",
       "      <td>1000_1</td>\n",
       "      <td>2018-08-17</td>\n",
       "      <td>0.00</td>\n",
       "      <td>1000</td>\n",
       "    </tr>\n",
       "    <tr>\n",
       "      <td>2</td>\n",
       "      <td>1000_2</td>\n",
       "      <td>2018-06-11</td>\n",
       "      <td>2.85</td>\n",
       "      <td>1000</td>\n",
       "    </tr>\n",
       "    <tr>\n",
       "      <td>3</td>\n",
       "      <td>1000_3</td>\n",
       "      <td>2018-09-21</td>\n",
       "      <td>13.80</td>\n",
       "      <td>1000</td>\n",
       "    </tr>\n",
       "    <tr>\n",
       "      <td>4</td>\n",
       "      <td>1000_4</td>\n",
       "      <td>2018-12-15</td>\n",
       "      <td>5.18</td>\n",
       "      <td>1000</td>\n",
       "    </tr>\n",
       "  </tbody>\n",
       "</table>\n",
       "</div>"
      ],
      "text/plain": [
       "       id   call_date  duration  user_id\n",
       "0  1000_0  2018-07-25      0.00     1000\n",
       "1  1000_1  2018-08-17      0.00     1000\n",
       "2  1000_2  2018-06-11      2.85     1000\n",
       "3  1000_3  2018-09-21     13.80     1000\n",
       "4  1000_4  2018-12-15      5.18     1000"
      ]
     },
     "execution_count": 19,
     "metadata": {},
     "output_type": "execute_result"
    }
   ],
   "source": [
    "calls.head(5)"
   ]
  },
  {
   "cell_type": "code",
   "execution_count": 20,
   "metadata": {},
   "outputs": [
    {
     "name": "stdout",
     "output_type": "stream",
     "text": [
      "<class 'pandas.core.frame.DataFrame'>\n",
      "RangeIndex: 149396 entries, 0 to 149395\n",
      "Data columns (total 5 columns):\n",
      "Unnamed: 0      149396 non-null int64\n",
      "id              149396 non-null object\n",
      "mb_used         149396 non-null float64\n",
      "session_date    149396 non-null object\n",
      "user_id         149396 non-null int64\n",
      "dtypes: float64(1), int64(2), object(2)\n",
      "memory usage: 5.7+ MB\n"
     ]
    }
   ],
   "source": [
    "internet.info()"
   ]
  },
  {
   "cell_type": "code",
   "execution_count": 21,
   "metadata": {},
   "outputs": [
    {
     "data": {
      "text/html": [
       "<div>\n",
       "<style scoped>\n",
       "    .dataframe tbody tr th:only-of-type {\n",
       "        vertical-align: middle;\n",
       "    }\n",
       "\n",
       "    .dataframe tbody tr th {\n",
       "        vertical-align: top;\n",
       "    }\n",
       "\n",
       "    .dataframe thead th {\n",
       "        text-align: right;\n",
       "    }\n",
       "</style>\n",
       "<table border=\"1\" class=\"dataframe\">\n",
       "  <thead>\n",
       "    <tr style=\"text-align: right;\">\n",
       "      <th></th>\n",
       "      <th>Unnamed: 0</th>\n",
       "      <th>id</th>\n",
       "      <th>mb_used</th>\n",
       "      <th>session_date</th>\n",
       "      <th>user_id</th>\n",
       "    </tr>\n",
       "  </thead>\n",
       "  <tbody>\n",
       "    <tr>\n",
       "      <td>0</td>\n",
       "      <td>0</td>\n",
       "      <td>1000_0</td>\n",
       "      <td>112.95</td>\n",
       "      <td>2018-11-25</td>\n",
       "      <td>1000</td>\n",
       "    </tr>\n",
       "    <tr>\n",
       "      <td>1</td>\n",
       "      <td>1</td>\n",
       "      <td>1000_1</td>\n",
       "      <td>1052.81</td>\n",
       "      <td>2018-09-07</td>\n",
       "      <td>1000</td>\n",
       "    </tr>\n",
       "    <tr>\n",
       "      <td>2</td>\n",
       "      <td>2</td>\n",
       "      <td>1000_2</td>\n",
       "      <td>1197.26</td>\n",
       "      <td>2018-06-25</td>\n",
       "      <td>1000</td>\n",
       "    </tr>\n",
       "    <tr>\n",
       "      <td>3</td>\n",
       "      <td>3</td>\n",
       "      <td>1000_3</td>\n",
       "      <td>550.27</td>\n",
       "      <td>2018-08-22</td>\n",
       "      <td>1000</td>\n",
       "    </tr>\n",
       "    <tr>\n",
       "      <td>4</td>\n",
       "      <td>4</td>\n",
       "      <td>1000_4</td>\n",
       "      <td>302.56</td>\n",
       "      <td>2018-09-24</td>\n",
       "      <td>1000</td>\n",
       "    </tr>\n",
       "  </tbody>\n",
       "</table>\n",
       "</div>"
      ],
      "text/plain": [
       "   Unnamed: 0      id  mb_used session_date  user_id\n",
       "0           0  1000_0   112.95   2018-11-25     1000\n",
       "1           1  1000_1  1052.81   2018-09-07     1000\n",
       "2           2  1000_2  1197.26   2018-06-25     1000\n",
       "3           3  1000_3   550.27   2018-08-22     1000\n",
       "4           4  1000_4   302.56   2018-09-24     1000"
      ]
     },
     "execution_count": 21,
     "metadata": {},
     "output_type": "execute_result"
    }
   ],
   "source": [
    "internet.head(5)"
   ]
  },
  {
   "cell_type": "code",
   "execution_count": 22,
   "metadata": {},
   "outputs": [
    {
     "name": "stdout",
     "output_type": "stream",
     "text": [
      "<class 'pandas.core.frame.DataFrame'>\n",
      "RangeIndex: 123036 entries, 0 to 123035\n",
      "Data columns (total 3 columns):\n",
      "id              123036 non-null object\n",
      "message_date    123036 non-null object\n",
      "user_id         123036 non-null int64\n",
      "dtypes: int64(1), object(2)\n",
      "memory usage: 2.8+ MB\n"
     ]
    }
   ],
   "source": [
    "messages.info()"
   ]
  },
  {
   "cell_type": "code",
   "execution_count": 23,
   "metadata": {},
   "outputs": [
    {
     "data": {
      "text/html": [
       "<div>\n",
       "<style scoped>\n",
       "    .dataframe tbody tr th:only-of-type {\n",
       "        vertical-align: middle;\n",
       "    }\n",
       "\n",
       "    .dataframe tbody tr th {\n",
       "        vertical-align: top;\n",
       "    }\n",
       "\n",
       "    .dataframe thead th {\n",
       "        text-align: right;\n",
       "    }\n",
       "</style>\n",
       "<table border=\"1\" class=\"dataframe\">\n",
       "  <thead>\n",
       "    <tr style=\"text-align: right;\">\n",
       "      <th></th>\n",
       "      <th>id</th>\n",
       "      <th>message_date</th>\n",
       "      <th>user_id</th>\n",
       "    </tr>\n",
       "  </thead>\n",
       "  <tbody>\n",
       "    <tr>\n",
       "      <td>0</td>\n",
       "      <td>1000_0</td>\n",
       "      <td>2018-06-27</td>\n",
       "      <td>1000</td>\n",
       "    </tr>\n",
       "    <tr>\n",
       "      <td>1</td>\n",
       "      <td>1000_1</td>\n",
       "      <td>2018-10-08</td>\n",
       "      <td>1000</td>\n",
       "    </tr>\n",
       "    <tr>\n",
       "      <td>2</td>\n",
       "      <td>1000_2</td>\n",
       "      <td>2018-08-04</td>\n",
       "      <td>1000</td>\n",
       "    </tr>\n",
       "    <tr>\n",
       "      <td>3</td>\n",
       "      <td>1000_3</td>\n",
       "      <td>2018-06-16</td>\n",
       "      <td>1000</td>\n",
       "    </tr>\n",
       "    <tr>\n",
       "      <td>4</td>\n",
       "      <td>1000_4</td>\n",
       "      <td>2018-12-05</td>\n",
       "      <td>1000</td>\n",
       "    </tr>\n",
       "  </tbody>\n",
       "</table>\n",
       "</div>"
      ],
      "text/plain": [
       "       id message_date  user_id\n",
       "0  1000_0   2018-06-27     1000\n",
       "1  1000_1   2018-10-08     1000\n",
       "2  1000_2   2018-08-04     1000\n",
       "3  1000_3   2018-06-16     1000\n",
       "4  1000_4   2018-12-05     1000"
      ]
     },
     "execution_count": 23,
     "metadata": {},
     "output_type": "execute_result"
    }
   ],
   "source": [
    "messages.head(5)"
   ]
  },
  {
   "cell_type": "code",
   "execution_count": 24,
   "metadata": {},
   "outputs": [
    {
     "name": "stdout",
     "output_type": "stream",
     "text": [
      "<class 'pandas.core.frame.DataFrame'>\n",
      "RangeIndex: 2 entries, 0 to 1\n",
      "Data columns (total 8 columns):\n",
      "messages_included        2 non-null int64\n",
      "mb_per_month_included    2 non-null int64\n",
      "minutes_included         2 non-null int64\n",
      "rub_monthly_fee          2 non-null int64\n",
      "rub_per_gb               2 non-null int64\n",
      "rub_per_message          2 non-null int64\n",
      "rub_per_minute           2 non-null int64\n",
      "tariff_name              2 non-null object\n",
      "dtypes: int64(7), object(1)\n",
      "memory usage: 256.0+ bytes\n"
     ]
    }
   ],
   "source": [
    "tariffs.info()"
   ]
  },
  {
   "cell_type": "code",
   "execution_count": 25,
   "metadata": {},
   "outputs": [
    {
     "data": {
      "text/html": [
       "<div>\n",
       "<style scoped>\n",
       "    .dataframe tbody tr th:only-of-type {\n",
       "        vertical-align: middle;\n",
       "    }\n",
       "\n",
       "    .dataframe tbody tr th {\n",
       "        vertical-align: top;\n",
       "    }\n",
       "\n",
       "    .dataframe thead th {\n",
       "        text-align: right;\n",
       "    }\n",
       "</style>\n",
       "<table border=\"1\" class=\"dataframe\">\n",
       "  <thead>\n",
       "    <tr style=\"text-align: right;\">\n",
       "      <th></th>\n",
       "      <th>messages_included</th>\n",
       "      <th>mb_per_month_included</th>\n",
       "      <th>minutes_included</th>\n",
       "      <th>rub_monthly_fee</th>\n",
       "      <th>rub_per_gb</th>\n",
       "      <th>rub_per_message</th>\n",
       "      <th>rub_per_minute</th>\n",
       "      <th>tariff_name</th>\n",
       "    </tr>\n",
       "  </thead>\n",
       "  <tbody>\n",
       "    <tr>\n",
       "      <td>0</td>\n",
       "      <td>50</td>\n",
       "      <td>15360</td>\n",
       "      <td>500</td>\n",
       "      <td>550</td>\n",
       "      <td>200</td>\n",
       "      <td>3</td>\n",
       "      <td>3</td>\n",
       "      <td>smart</td>\n",
       "    </tr>\n",
       "    <tr>\n",
       "      <td>1</td>\n",
       "      <td>1000</td>\n",
       "      <td>30720</td>\n",
       "      <td>3000</td>\n",
       "      <td>1950</td>\n",
       "      <td>150</td>\n",
       "      <td>1</td>\n",
       "      <td>1</td>\n",
       "      <td>ultra</td>\n",
       "    </tr>\n",
       "  </tbody>\n",
       "</table>\n",
       "</div>"
      ],
      "text/plain": [
       "   messages_included  mb_per_month_included  minutes_included  \\\n",
       "0                 50                  15360               500   \n",
       "1               1000                  30720              3000   \n",
       "\n",
       "   rub_monthly_fee  rub_per_gb  rub_per_message  rub_per_minute tariff_name  \n",
       "0              550         200                3               3       smart  \n",
       "1             1950         150                1               1       ultra  "
      ]
     },
     "execution_count": 25,
     "metadata": {},
     "output_type": "execute_result"
    }
   ],
   "source": [
    "tariffs.head(2)"
   ]
  },
  {
   "cell_type": "code",
   "execution_count": 26,
   "metadata": {},
   "outputs": [
    {
     "name": "stdout",
     "output_type": "stream",
     "text": [
      "<class 'pandas.core.frame.DataFrame'>\n",
      "RangeIndex: 500 entries, 0 to 499\n",
      "Data columns (total 8 columns):\n",
      "user_id       500 non-null int64\n",
      "age           500 non-null int64\n",
      "churn_date    38 non-null object\n",
      "city          500 non-null object\n",
      "first_name    500 non-null object\n",
      "last_name     500 non-null object\n",
      "reg_date      500 non-null object\n",
      "tariff        500 non-null object\n",
      "dtypes: int64(2), object(6)\n",
      "memory usage: 31.4+ KB\n"
     ]
    }
   ],
   "source": [
    "users.info()"
   ]
  },
  {
   "cell_type": "code",
   "execution_count": 27,
   "metadata": {},
   "outputs": [
    {
     "data": {
      "text/html": [
       "<div>\n",
       "<style scoped>\n",
       "    .dataframe tbody tr th:only-of-type {\n",
       "        vertical-align: middle;\n",
       "    }\n",
       "\n",
       "    .dataframe tbody tr th {\n",
       "        vertical-align: top;\n",
       "    }\n",
       "\n",
       "    .dataframe thead th {\n",
       "        text-align: right;\n",
       "    }\n",
       "</style>\n",
       "<table border=\"1\" class=\"dataframe\">\n",
       "  <thead>\n",
       "    <tr style=\"text-align: right;\">\n",
       "      <th></th>\n",
       "      <th>user_id</th>\n",
       "      <th>age</th>\n",
       "      <th>churn_date</th>\n",
       "      <th>city</th>\n",
       "      <th>first_name</th>\n",
       "      <th>last_name</th>\n",
       "      <th>reg_date</th>\n",
       "      <th>tariff</th>\n",
       "    </tr>\n",
       "  </thead>\n",
       "  <tbody>\n",
       "    <tr>\n",
       "      <td>0</td>\n",
       "      <td>1000</td>\n",
       "      <td>52</td>\n",
       "      <td>NaN</td>\n",
       "      <td>Краснодар</td>\n",
       "      <td>Рафаил</td>\n",
       "      <td>Верещагин</td>\n",
       "      <td>2018-05-25</td>\n",
       "      <td>ultra</td>\n",
       "    </tr>\n",
       "    <tr>\n",
       "      <td>1</td>\n",
       "      <td>1001</td>\n",
       "      <td>41</td>\n",
       "      <td>NaN</td>\n",
       "      <td>Москва</td>\n",
       "      <td>Иван</td>\n",
       "      <td>Ежов</td>\n",
       "      <td>2018-11-01</td>\n",
       "      <td>smart</td>\n",
       "    </tr>\n",
       "    <tr>\n",
       "      <td>2</td>\n",
       "      <td>1002</td>\n",
       "      <td>59</td>\n",
       "      <td>NaN</td>\n",
       "      <td>Стерлитамак</td>\n",
       "      <td>Евгений</td>\n",
       "      <td>Абрамович</td>\n",
       "      <td>2018-06-17</td>\n",
       "      <td>smart</td>\n",
       "    </tr>\n",
       "    <tr>\n",
       "      <td>3</td>\n",
       "      <td>1003</td>\n",
       "      <td>23</td>\n",
       "      <td>NaN</td>\n",
       "      <td>Москва</td>\n",
       "      <td>Белла</td>\n",
       "      <td>Белякова</td>\n",
       "      <td>2018-08-17</td>\n",
       "      <td>ultra</td>\n",
       "    </tr>\n",
       "    <tr>\n",
       "      <td>4</td>\n",
       "      <td>1004</td>\n",
       "      <td>68</td>\n",
       "      <td>NaN</td>\n",
       "      <td>Новокузнецк</td>\n",
       "      <td>Татьяна</td>\n",
       "      <td>Авдеенко</td>\n",
       "      <td>2018-05-14</td>\n",
       "      <td>ultra</td>\n",
       "    </tr>\n",
       "  </tbody>\n",
       "</table>\n",
       "</div>"
      ],
      "text/plain": [
       "   user_id  age churn_date         city first_name  last_name    reg_date  \\\n",
       "0     1000   52        NaN    Краснодар     Рафаил  Верещагин  2018-05-25   \n",
       "1     1001   41        NaN       Москва       Иван       Ежов  2018-11-01   \n",
       "2     1002   59        NaN  Стерлитамак    Евгений  Абрамович  2018-06-17   \n",
       "3     1003   23        NaN       Москва      Белла   Белякова  2018-08-17   \n",
       "4     1004   68        NaN  Новокузнецк    Татьяна   Авдеенко  2018-05-14   \n",
       "\n",
       "  tariff  \n",
       "0  ultra  \n",
       "1  smart  \n",
       "2  smart  \n",
       "3  ultra  \n",
       "4  ultra  "
      ]
     },
     "execution_count": 27,
     "metadata": {},
     "output_type": "execute_result"
    }
   ],
   "source": [
    "users.head(5)"
   ]
  },
  {
   "cell_type": "markdown",
   "metadata": {},
   "source": [
    "### Вывод"
   ]
  },
  {
   "cell_type": "markdown",
   "metadata": {},
   "source": [
    "Таблицы содержат подробную информацию о пользователях, тарифах и статистики их использования. Первоначальная проблема, которую необходимо решить это замена типа данных и исправление ошибок в данных по продолжительности звонка и использовании интернет трафика.  Далее для дальнейшего анализа необходимо будет посчитать и добавить в таблицу данные об:\n",
    "-  количестве сделанных звонков и израсходованных минут разговора по месяцам;\n",
    "-  количестве отправленных сообщений по месяцам;\n",
    "-  объеме израсходованного интернет-трафика по месяцам;\n",
    "-  помесячной выручке с каждого пользователя."
   ]
  },
  {
   "cell_type": "markdown",
   "metadata": {},
   "source": [
    "### Шаг 2. Предобработка данных"
   ]
  },
  {
   "cell_type": "markdown",
   "metadata": {},
   "source": [
    "### Замена типа данных"
   ]
  },
  {
   "cell_type": "code",
   "execution_count": 13,
   "metadata": {},
   "outputs": [],
   "source": [
    "# <Замена типа данных в таблице users>\n",
    "users['reg_date'] = pd.to_datetime(users['reg_date'], format='%Y-%m-%d')\n",
    "users['churn_date'] = pd.to_datetime(users['churn_date'], format='%Y-%m-%d')\n",
    "\n",
    "# <Замена типа данных в таблице calls>\n",
    "calls['call_date'] = pd.to_datetime(calls['call_date'], format='%Y-%m-%d')\n",
    "\n",
    "# <Замена типа данных в таблице messages>\n",
    "messages['message_date'] = pd.to_datetime(messages['message_date'], format='%Y-%m-%d')\n",
    "\n",
    "# <Замена типа данных в таблице internet>\n",
    "internet['session_date'] = pd.to_datetime(internet['session_date'], format='%Y-%m-%d')\n",
    "\n",
    "# <Замена типа данных в таблице tariffs>\n",
    "tariffs['tariff_name'] = tariffs['tariff_name'].astype('str', errors = 'ignore')"
   ]
  },
  {
   "cell_type": "markdown",
   "metadata": {},
   "source": [
    "### Исправление ошибок в данных"
   ]
  },
  {
   "cell_type": "code",
   "execution_count": 14,
   "metadata": {},
   "outputs": [
    {
     "data": {
      "text/plain": [
       "39613"
      ]
     },
     "execution_count": 14,
     "metadata": {},
     "output_type": "execute_result"
    }
   ],
   "source": [
    "# <Определим количество звонков длительностью 0 минут>\n",
    "calls[calls['duration'] == 0]['duration'].count()"
   ]
  },
  {
   "cell_type": "code",
   "execution_count": 15,
   "metadata": {},
   "outputs": [
    {
     "data": {
      "text/plain": [
       "19598"
      ]
     },
     "execution_count": 15,
     "metadata": {},
     "output_type": "execute_result"
    }
   ],
   "source": [
    "# <Определим количество пользователей с 0 использованного трафика>\n",
    "internet[internet['mb_used'] == 0]['mb_used'].count()"
   ]
  },
  {
   "cell_type": "markdown",
   "metadata": {},
   "source": [
    "Вероятно, что нулевые значения появились:\n",
    "\n",
    "- из-за сбоя в системе данные не залогировались;\n",
    "- из-за не верного округления при выгрузке из информационной системы. \n",
    "\n",
    "Заменем нулевые значения на 1 для более точного дальнейшего анализа."
   ]
  },
  {
   "cell_type": "code",
   "execution_count": 16,
   "metadata": {},
   "outputs": [],
   "source": [
    "# <Замена нулевых значений в столбце duration таблицы calls>\n",
    "calls['duration'] = calls['duration'].replace(0, 1)\n",
    "\n",
    "# <Замена нулевых значений в столбце mb_used таблицы internet>\n",
    "internet['mb_used'] = internet['mb_used'].replace(0, 1)"
   ]
  },
  {
   "cell_type": "markdown",
   "metadata": {},
   "source": [
    " «Мегалайн» всегда округляет вверх значения минут и мегабайтов. По этой причине округлим в большую сторону значения в столбце duration таблицы calls и значений в столбце mb_used таблицы internet."
   ]
  },
  {
   "cell_type": "code",
   "execution_count": 17,
   "metadata": {},
   "outputs": [],
   "source": [
    "# <Округление в большую сторону длитольности звонка и объема потраченного трафика>\n",
    "calls['duration'] = np.ceil(calls['duration'])\n",
    "internet['mb_used'] = np.ceil(internet['mb_used'])"
   ]
  },
  {
   "cell_type": "markdown",
   "metadata": {},
   "source": [
    "Для дальнейшего анализа посчитаем для каждого пользователя:\n",
    "- количество сделанных звонков и израсходованных минут разговора по месяцам;\n",
    "- количество отправленных сообщений по месяцам;\n",
    "- объем израсходованного интернет-трафика по месяцам;"
   ]
  },
  {
   "cell_type": "code",
   "execution_count": 18,
   "metadata": {},
   "outputs": [],
   "source": [
    "# <Добавим столбец с месяцем в таблицу calls>\n",
    "calls['month']= calls['call_date'].dt.month\n",
    "\n",
    "# <Сгруппируем данные по user_id и month>\n",
    "calls_gr = calls.groupby(['user_id', 'month'])['duration'].sum()\n",
    "calls_gr = calls_gr.reset_index(level = 'month')"
   ]
  },
  {
   "cell_type": "code",
   "execution_count": 19,
   "metadata": {},
   "outputs": [],
   "source": [
    "# <Добавим столбец с месяцем в таблицу internet>\n",
    "internet['month']= internet['session_date'].dt.month\n",
    "\n",
    "# <Сгруппируем данные по user_id и month>\n",
    "internet_gr = internet.groupby(['user_id', 'month'])['mb_used'].sum()\n",
    "internet_gr = internet_gr.reset_index(level = 'month')"
   ]
  },
  {
   "cell_type": "code",
   "execution_count": 20,
   "metadata": {},
   "outputs": [],
   "source": [
    "# <Добавим столбец с месяцем в таблицу messages>\n",
    "messages['month']= messages['message_date'].dt.month\n",
    "\n",
    "# <Сгруппируем данные по user_id и month>\n",
    "messages_gr = messages.groupby(['user_id', 'month'])['id'].count()\n",
    "messages_gr = messages_gr.reset_index(level = 'month')"
   ]
  },
  {
   "cell_type": "code",
   "execution_count": 21,
   "metadata": {
    "scrolled": true
   },
   "outputs": [],
   "source": [
    "# <Соединим таблицу users с calls и tariffs>\n",
    "users_calls = users.merge(calls_gr, on='user_id')\n",
    "users_calls = users_calls.merge(tariffs, left_on='tariff', right_on ='tariff_name')\n",
    "\n",
    "# <Добавим в таблицу столбец по количеству потраченных минут сверх тарифа>\n",
    "users_calls['minutes_over_tariff'] = users_calls['duration'] - users_calls['minutes_included']\n",
    "users_calls['minutes_over_tariff'] = users_calls['minutes_over_tariff'].apply(lambda x: 0 if x < 0 else x)"
   ]
  },
  {
   "cell_type": "code",
   "execution_count": 22,
   "metadata": {},
   "outputs": [],
   "source": [
    "# <Соединим таблицу users_calls с internet_gr>\n",
    "users_calls_internet = users_calls.merge(internet_gr, on=['user_id','month'])\n",
    "\n",
    "# <Добавим в таблицу столбец по количеству потраченных гигабайт сверх тарифа>\n",
    "users_calls_internet['gb_over_tariff'] = (users_calls_internet['mb_used'] - users_calls_internet['mg_per_month_included']) / 1024\n",
    "users_calls_internet['gb_over_tariff'] = users_calls_internet['gb_over_tariff'].apply(lambda x: 0 if x < 0 else x)"
   ]
  },
  {
   "cell_type": "code",
   "execution_count": 23,
   "metadata": {},
   "outputs": [],
   "source": [
    "# <Соединим таблицу users_calls_internet с messages_grs>\n",
    "users_all = users_calls_internet.merge(messages_gr, on=['user_id','month'])\n",
    "\n",
    "# <Добавим в таблицу столбец по количеству отправленных сообщений сверх тарифа>\n",
    "users_all['messages_over_tariff'] = users_all['id'] - users_all['messages_included']\n",
    "users_all['messages_over_tariff'] = users_all['messages_over_tariff'].apply(lambda x: 0 if x < 0 else x)"
   ]
  },
  {
   "cell_type": "markdown",
   "metadata": {},
   "source": [
    "Посчитаем помесячную выручку с каждого пользователя:"
   ]
  },
  {
   "cell_type": "code",
   "execution_count": 24,
   "metadata": {},
   "outputs": [],
   "source": [
    "# <Добавим в таблицу столбец с помесячной выручку с каждого пользователя>\n",
    "users_all['profit'] = ((users_all['minutes_over_tariff'] * users_all['rub_per_minute'] + users_all['gb_over_tariff'] * users_all['rub_per_gb'] + users_all['messages_over_tariff'] * users_all['rub_per_message']) + users_all['rub_monthly_fee'] ).round(2)"
   ]
  },
  {
   "cell_type": "markdown",
   "metadata": {},
   "source": [
    "Выведим итоговую таблицу с количеством потраченных минут, гигабайт, сообщений сверх тарифа и полученной вырочкой по каждому пользователю."
   ]
  },
  {
   "cell_type": "code",
   "execution_count": 25,
   "metadata": {},
   "outputs": [
    {
     "data": {
      "text/html": [
       "<div>\n",
       "<style scoped>\n",
       "    .dataframe tbody tr th:only-of-type {\n",
       "        vertical-align: middle;\n",
       "    }\n",
       "\n",
       "    .dataframe tbody tr th {\n",
       "        vertical-align: top;\n",
       "    }\n",
       "\n",
       "    .dataframe thead th {\n",
       "        text-align: right;\n",
       "    }\n",
       "</style>\n",
       "<table border=\"1\" class=\"dataframe\">\n",
       "  <thead>\n",
       "    <tr style=\"text-align: right;\">\n",
       "      <th></th>\n",
       "      <th>user_id</th>\n",
       "      <th>month</th>\n",
       "      <th>call_used</th>\n",
       "      <th>mb_used</th>\n",
       "      <th>messages_used</th>\n",
       "      <th>profit</th>\n",
       "      <th>tariff_name</th>\n",
       "    </tr>\n",
       "  </thead>\n",
       "  <tbody>\n",
       "    <tr>\n",
       "      <td>0</td>\n",
       "      <td>1000</td>\n",
       "      <td>5</td>\n",
       "      <td>164.0</td>\n",
       "      <td>2257.0</td>\n",
       "      <td>22</td>\n",
       "      <td>1950.0</td>\n",
       "      <td>ultra</td>\n",
       "    </tr>\n",
       "    <tr>\n",
       "      <td>1</td>\n",
       "      <td>1000</td>\n",
       "      <td>6</td>\n",
       "      <td>187.0</td>\n",
       "      <td>23262.0</td>\n",
       "      <td>60</td>\n",
       "      <td>1950.0</td>\n",
       "      <td>ultra</td>\n",
       "    </tr>\n",
       "    <tr>\n",
       "      <td>2</td>\n",
       "      <td>1000</td>\n",
       "      <td>7</td>\n",
       "      <td>346.0</td>\n",
       "      <td>14017.0</td>\n",
       "      <td>75</td>\n",
       "      <td>1950.0</td>\n",
       "      <td>ultra</td>\n",
       "    </tr>\n",
       "    <tr>\n",
       "      <td>3</td>\n",
       "      <td>1000</td>\n",
       "      <td>8</td>\n",
       "      <td>418.0</td>\n",
       "      <td>14072.0</td>\n",
       "      <td>81</td>\n",
       "      <td>1950.0</td>\n",
       "      <td>ultra</td>\n",
       "    </tr>\n",
       "    <tr>\n",
       "      <td>4</td>\n",
       "      <td>1000</td>\n",
       "      <td>9</td>\n",
       "      <td>478.0</td>\n",
       "      <td>14583.0</td>\n",
       "      <td>57</td>\n",
       "      <td>1950.0</td>\n",
       "      <td>ultra</td>\n",
       "    </tr>\n",
       "    <tr>\n",
       "      <td>5</td>\n",
       "      <td>1000</td>\n",
       "      <td>10</td>\n",
       "      <td>363.0</td>\n",
       "      <td>14717.0</td>\n",
       "      <td>73</td>\n",
       "      <td>1950.0</td>\n",
       "      <td>ultra</td>\n",
       "    </tr>\n",
       "    <tr>\n",
       "      <td>6</td>\n",
       "      <td>1000</td>\n",
       "      <td>11</td>\n",
       "      <td>344.0</td>\n",
       "      <td>14769.0</td>\n",
       "      <td>58</td>\n",
       "      <td>1950.0</td>\n",
       "      <td>ultra</td>\n",
       "    </tr>\n",
       "    <tr>\n",
       "      <td>7</td>\n",
       "      <td>1000</td>\n",
       "      <td>12</td>\n",
       "      <td>341.0</td>\n",
       "      <td>9829.0</td>\n",
       "      <td>70</td>\n",
       "      <td>1950.0</td>\n",
       "      <td>ultra</td>\n",
       "    </tr>\n",
       "    <tr>\n",
       "      <td>8</td>\n",
       "      <td>1003</td>\n",
       "      <td>8</td>\n",
       "      <td>392.0</td>\n",
       "      <td>8572.0</td>\n",
       "      <td>37</td>\n",
       "      <td>1950.0</td>\n",
       "      <td>ultra</td>\n",
       "    </tr>\n",
       "    <tr>\n",
       "      <td>9</td>\n",
       "      <td>1003</td>\n",
       "      <td>9</td>\n",
       "      <td>990.0</td>\n",
       "      <td>12479.0</td>\n",
       "      <td>91</td>\n",
       "      <td>1950.0</td>\n",
       "      <td>ultra</td>\n",
       "    </tr>\n",
       "  </tbody>\n",
       "</table>\n",
       "</div>"
      ],
      "text/plain": [
       "   user_id  month  call_used  mb_used  messages_used  profit tariff_name\n",
       "0     1000      5      164.0   2257.0             22  1950.0       ultra\n",
       "1     1000      6      187.0  23262.0             60  1950.0       ultra\n",
       "2     1000      7      346.0  14017.0             75  1950.0       ultra\n",
       "3     1000      8      418.0  14072.0             81  1950.0       ultra\n",
       "4     1000      9      478.0  14583.0             57  1950.0       ultra\n",
       "5     1000     10      363.0  14717.0             73  1950.0       ultra\n",
       "6     1000     11      344.0  14769.0             58  1950.0       ultra\n",
       "7     1000     12      341.0   9829.0             70  1950.0       ultra\n",
       "8     1003      8      392.0   8572.0             37  1950.0       ultra\n",
       "9     1003      9      990.0  12479.0             91  1950.0       ultra"
      ]
     },
     "execution_count": 25,
     "metadata": {},
     "output_type": "execute_result"
    }
   ],
   "source": [
    "# <Выведим итоговую таблицу>\n",
    "users_all.rename(columns={'id': 'messages', 'duration': 'call_used','id': 'messages_used'}, inplace=True)\n",
    "users_all[['user_id','month', 'call_used', 'mb_used','messages_used', 'profit', 'tariff_name']].head(10)"
   ]
  },
  {
   "cell_type": "markdown",
   "metadata": {},
   "source": [
    "### Вывод"
   ]
  },
  {
   "cell_type": "markdown",
   "metadata": {},
   "source": [
    "Заменили тип данных у столбцов, исправили ошибочные значения и составили итоговую таблицу для дальнейшего анализа."
   ]
  },
  {
   "cell_type": "markdown",
   "metadata": {},
   "source": [
    "### Шаг 3. Анализ данных"
   ]
  },
  {
   "cell_type": "markdown",
   "metadata": {},
   "source": [
    "Создадим сводную таблицу, построим графики и опишим поведение клиентов оператора, в зависимости от тарифа. Узнаем сколько минут разговора, сколько сообщений и какой объём интернет-трафика требуется пользователям каждого тарифа в месяц."
   ]
  },
  {
   "cell_type": "code",
   "execution_count": 26,
   "metadata": {},
   "outputs": [
    {
     "data": {
      "text/html": [
       "<div>\n",
       "<style scoped>\n",
       "    .dataframe tbody tr th:only-of-type {\n",
       "        vertical-align: middle;\n",
       "    }\n",
       "\n",
       "    .dataframe tbody tr th {\n",
       "        vertical-align: top;\n",
       "    }\n",
       "\n",
       "    .dataframe thead tr th {\n",
       "        text-align: left;\n",
       "    }\n",
       "\n",
       "    .dataframe thead tr:last-of-type th {\n",
       "        text-align: right;\n",
       "    }\n",
       "</style>\n",
       "<table border=\"1\" class=\"dataframe\">\n",
       "  <thead>\n",
       "    <tr>\n",
       "      <th></th>\n",
       "      <th colspan=\"2\" halign=\"left\">call_used</th>\n",
       "      <th colspan=\"2\" halign=\"left\">mb_used</th>\n",
       "      <th colspan=\"2\" halign=\"left\">messages_used</th>\n",
       "      <th colspan=\"2\" halign=\"left\">profit</th>\n",
       "    </tr>\n",
       "    <tr>\n",
       "      <th>tariff_name</th>\n",
       "      <th>smart</th>\n",
       "      <th>ultra</th>\n",
       "      <th>smart</th>\n",
       "      <th>ultra</th>\n",
       "      <th>smart</th>\n",
       "      <th>ultra</th>\n",
       "      <th>smart</th>\n",
       "      <th>ultra</th>\n",
       "    </tr>\n",
       "    <tr>\n",
       "      <th>month</th>\n",
       "      <th></th>\n",
       "      <th></th>\n",
       "      <th></th>\n",
       "      <th></th>\n",
       "      <th></th>\n",
       "      <th></th>\n",
       "      <th></th>\n",
       "      <th></th>\n",
       "    </tr>\n",
       "  </thead>\n",
       "  <tbody>\n",
       "    <tr>\n",
       "      <td>1</td>\n",
       "      <td>216.58</td>\n",
       "      <td>491.00</td>\n",
       "      <td>8701.55</td>\n",
       "      <td>14003.86</td>\n",
       "      <td>20.00</td>\n",
       "      <td>43.43</td>\n",
       "      <td>716.73</td>\n",
       "      <td>1950.00</td>\n",
       "    </tr>\n",
       "    <tr>\n",
       "      <td>2</td>\n",
       "      <td>319.80</td>\n",
       "      <td>410.29</td>\n",
       "      <td>11960.48</td>\n",
       "      <td>14908.21</td>\n",
       "      <td>27.94</td>\n",
       "      <td>37.29</td>\n",
       "      <td>809.55</td>\n",
       "      <td>1989.59</td>\n",
       "    </tr>\n",
       "    <tr>\n",
       "      <td>3</td>\n",
       "      <td>403.65</td>\n",
       "      <td>567.72</td>\n",
       "      <td>14666.62</td>\n",
       "      <td>17146.52</td>\n",
       "      <td>35.55</td>\n",
       "      <td>47.80</td>\n",
       "      <td>1094.47</td>\n",
       "      <td>2009.48</td>\n",
       "    </tr>\n",
       "    <tr>\n",
       "      <td>4</td>\n",
       "      <td>391.90</td>\n",
       "      <td>512.50</td>\n",
       "      <td>13681.60</td>\n",
       "      <td>16839.03</td>\n",
       "      <td>35.86</td>\n",
       "      <td>45.45</td>\n",
       "      <td>947.06</td>\n",
       "      <td>1962.51</td>\n",
       "    </tr>\n",
       "    <tr>\n",
       "      <td>5</td>\n",
       "      <td>410.90</td>\n",
       "      <td>547.25</td>\n",
       "      <td>16182.61</td>\n",
       "      <td>18954.19</td>\n",
       "      <td>39.03</td>\n",
       "      <td>50.04</td>\n",
       "      <td>1184.64</td>\n",
       "      <td>2014.87</td>\n",
       "    </tr>\n",
       "    <tr>\n",
       "      <td>6</td>\n",
       "      <td>410.33</td>\n",
       "      <td>511.19</td>\n",
       "      <td>15823.23</td>\n",
       "      <td>18501.90</td>\n",
       "      <td>38.51</td>\n",
       "      <td>50.89</td>\n",
       "      <td>1172.21</td>\n",
       "      <td>2013.50</td>\n",
       "    </tr>\n",
       "    <tr>\n",
       "      <td>7</td>\n",
       "      <td>420.13</td>\n",
       "      <td>573.67</td>\n",
       "      <td>15851.56</td>\n",
       "      <td>20181.86</td>\n",
       "      <td>38.99</td>\n",
       "      <td>61.29</td>\n",
       "      <td>1189.59</td>\n",
       "      <td>2069.64</td>\n",
       "    </tr>\n",
       "    <tr>\n",
       "      <td>8</td>\n",
       "      <td>441.46</td>\n",
       "      <td>541.64</td>\n",
       "      <td>16876.71</td>\n",
       "      <td>19410.05</td>\n",
       "      <td>39.04</td>\n",
       "      <td>58.90</td>\n",
       "      <td>1313.70</td>\n",
       "      <td>2022.13</td>\n",
       "    </tr>\n",
       "    <tr>\n",
       "      <td>9</td>\n",
       "      <td>440.53</td>\n",
       "      <td>579.78</td>\n",
       "      <td>16401.94</td>\n",
       "      <td>19410.79</td>\n",
       "      <td>39.25</td>\n",
       "      <td>63.54</td>\n",
       "      <td>1227.55</td>\n",
       "      <td>1997.50</td>\n",
       "    </tr>\n",
       "    <tr>\n",
       "      <td>10</td>\n",
       "      <td>439.64</td>\n",
       "      <td>592.54</td>\n",
       "      <td>16803.04</td>\n",
       "      <td>20520.63</td>\n",
       "      <td>39.15</td>\n",
       "      <td>70.76</td>\n",
       "      <td>1327.20</td>\n",
       "      <td>2058.96</td>\n",
       "    </tr>\n",
       "    <tr>\n",
       "      <td>11</td>\n",
       "      <td>452.69</td>\n",
       "      <td>575.36</td>\n",
       "      <td>17004.61</td>\n",
       "      <td>19735.04</td>\n",
       "      <td>39.96</td>\n",
       "      <td>67.24</td>\n",
       "      <td>1303.98</td>\n",
       "      <td>2067.25</td>\n",
       "    </tr>\n",
       "    <tr>\n",
       "      <td>12</td>\n",
       "      <td>486.92</td>\n",
       "      <td>657.18</td>\n",
       "      <td>17945.64</td>\n",
       "      <td>22055.14</td>\n",
       "      <td>42.29</td>\n",
       "      <td>72.99</td>\n",
       "      <td>1498.30</td>\n",
       "      <td>2103.67</td>\n",
       "    </tr>\n",
       "  </tbody>\n",
       "</table>\n",
       "</div>"
      ],
      "text/plain": [
       "            call_used         mb_used          messages_used        profit  \\\n",
       "tariff_name     smart  ultra    smart    ultra         smart ultra   smart   \n",
       "month                                                                        \n",
       "1              216.58 491.00  8701.55 14003.86         20.00 43.43  716.73   \n",
       "2              319.80 410.29 11960.48 14908.21         27.94 37.29  809.55   \n",
       "3              403.65 567.72 14666.62 17146.52         35.55 47.80 1094.47   \n",
       "4              391.90 512.50 13681.60 16839.03         35.86 45.45  947.06   \n",
       "5              410.90 547.25 16182.61 18954.19         39.03 50.04 1184.64   \n",
       "6              410.33 511.19 15823.23 18501.90         38.51 50.89 1172.21   \n",
       "7              420.13 573.67 15851.56 20181.86         38.99 61.29 1189.59   \n",
       "8              441.46 541.64 16876.71 19410.05         39.04 58.90 1313.70   \n",
       "9              440.53 579.78 16401.94 19410.79         39.25 63.54 1227.55   \n",
       "10             439.64 592.54 16803.04 20520.63         39.15 70.76 1327.20   \n",
       "11             452.69 575.36 17004.61 19735.04         39.96 67.24 1303.98   \n",
       "12             486.92 657.18 17945.64 22055.14         42.29 72.99 1498.30   \n",
       "\n",
       "                     \n",
       "tariff_name   ultra  \n",
       "month                \n",
       "1           1950.00  \n",
       "2           1989.59  \n",
       "3           2009.48  \n",
       "4           1962.51  \n",
       "5           2014.87  \n",
       "6           2013.50  \n",
       "7           2069.64  \n",
       "8           2022.13  \n",
       "9           1997.50  \n",
       "10          2058.96  \n",
       "11          2067.25  \n",
       "12          2103.67  "
      ]
     },
     "execution_count": 26,
     "metadata": {},
     "output_type": "execute_result"
    }
   ],
   "source": [
    "# <Создадим сводную таблицу по среднему расходу минут разговора, сообщений, объёма интернет-трафика и выручки>\n",
    "pd.options.display.float_format = '{:.2f}'.format\n",
    "users_all_pivot = users_all.pivot_table(index='month', columns='tariff_name' , values=['call_used', 'messages_used', 'mb_used', 'profit'], aggfunc='mean')\n",
    "users_all_pivot"
   ]
  },
  {
   "cell_type": "markdown",
   "metadata": {},
   "source": [
    "Построим графики с средним количеством минут разговора, сообщений и объёмом интернет-трафика по тарифам."
   ]
  },
  {
   "cell_type": "code",
   "execution_count": 27,
   "metadata": {},
   "outputs": [
    {
     "data": {
      "text/plain": [
       "<matplotlib.axes._subplots.AxesSubplot at 0x7f4706fdc0f0>"
      ]
     },
     "execution_count": 27,
     "metadata": {},
     "output_type": "execute_result"
    },
    {
     "data": {
      "image/png": "[encoded data removed]",
      "text/plain": [
       "<Figure size 720x288 with 1 Axes>"
      ]
     },
     "metadata": {
      "needs_background": "light"
     },
     "output_type": "display_data"
    },
    {
     "data": {
      "image/png": "[encoded data removed]",
      "text/plain": [
       "<Figure size 720x288 with 1 Axes>"
      ]
     },
     "metadata": {
      "needs_background": "light"
     },
     "output_type": "display_data"
    },
    {
     "data": {
      "image/png": "[encoded data removed]",
      "text/plain": [
       "<Figure size 720x288 with 1 Axes>"
      ]
     },
     "metadata": {
      "needs_background": "light"
     },
     "output_type": "display_data"
    },
    {
     "data": {
      "image/png": "[encoded data removed]",
      "text/plain": [
       "<Figure size 720x288 with 1 Axes>"
      ]
     },
     "metadata": {
      "needs_background": "light"
     },
     "output_type": "display_data"
    }
   ],
   "source": [
    "# <Построим графики>\n",
    "users_all_pivot.plot(title='call_used', y='call_used', style='o-', grid=True, figsize=(10, 4), kind='bar')\n",
    "users_all_pivot.plot(title='mb_used', y='mb_used', style='o-', grid=True, figsize=(10, 4), kind='bar')\n",
    "users_all_pivot.plot(title='messages_used', y='messages_used', style='o-', grid=True, figsize=(10, 4), kind='bar')\n",
    "users_all_pivot.plot(title='profit', y='profit', style='o-', grid=True, figsize=(10, 4), kind='bar')"
   ]
  },
  {
   "cell_type": "markdown",
   "metadata": {},
   "source": [
    "\n",
    "Посчитаем среднее количество, дисперсию и стандартное отклонение. Построем гистограммы и опишим распределения."
   ]
  },
  {
   "cell_type": "code",
   "execution_count": 28,
   "metadata": {},
   "outputs": [
    {
     "data": {
      "text/html": [
       "<div>\n",
       "<style scoped>\n",
       "    .dataframe tbody tr th:only-of-type {\n",
       "        vertical-align: middle;\n",
       "    }\n",
       "\n",
       "    .dataframe tbody tr th {\n",
       "        vertical-align: top;\n",
       "    }\n",
       "\n",
       "    .dataframe thead th {\n",
       "        text-align: right;\n",
       "    }\n",
       "</style>\n",
       "<table border=\"1\" class=\"dataframe\">\n",
       "  <thead>\n",
       "    <tr style=\"text-align: right;\">\n",
       "      <th></th>\n",
       "      <th>call_used</th>\n",
       "      <th>messages_used</th>\n",
       "      <th>mb_used</th>\n",
       "    </tr>\n",
       "  </thead>\n",
       "  <tbody>\n",
       "    <tr>\n",
       "      <td>count</td>\n",
       "      <td>752.00</td>\n",
       "      <td>752.00</td>\n",
       "      <td>752.00</td>\n",
       "    </tr>\n",
       "    <tr>\n",
       "      <td>mean</td>\n",
       "      <td>571.85</td>\n",
       "      <td>61.64</td>\n",
       "      <td>19616.40</td>\n",
       "    </tr>\n",
       "    <tr>\n",
       "      <td>std</td>\n",
       "      <td>319.84</td>\n",
       "      <td>44.82</td>\n",
       "      <td>9638.92</td>\n",
       "    </tr>\n",
       "    <tr>\n",
       "      <td>min</td>\n",
       "      <td>1.00</td>\n",
       "      <td>1.00</td>\n",
       "      <td>1.00</td>\n",
       "    </tr>\n",
       "    <tr>\n",
       "      <td>25%</td>\n",
       "      <td>341.00</td>\n",
       "      <td>25.00</td>\n",
       "      <td>11917.50</td>\n",
       "    </tr>\n",
       "    <tr>\n",
       "      <td>50%</td>\n",
       "      <td>551.50</td>\n",
       "      <td>53.00</td>\n",
       "      <td>19465.00</td>\n",
       "    </tr>\n",
       "    <tr>\n",
       "      <td>75%</td>\n",
       "      <td>779.00</td>\n",
       "      <td>89.00</td>\n",
       "      <td>26857.00</td>\n",
       "    </tr>\n",
       "    <tr>\n",
       "      <td>max</td>\n",
       "      <td>1727.00</td>\n",
       "      <td>224.00</td>\n",
       "      <td>49793.00</td>\n",
       "    </tr>\n",
       "  </tbody>\n",
       "</table>\n",
       "</div>"
      ],
      "text/plain": [
       "       call_used  messages_used  mb_used\n",
       "count     752.00         752.00   752.00\n",
       "mean      571.85          61.64 19616.40\n",
       "std       319.84          44.82  9638.92\n",
       "min         1.00           1.00     1.00\n",
       "25%       341.00          25.00 11917.50\n",
       "50%       551.50          53.00 19465.00\n",
       "75%       779.00          89.00 26857.00\n",
       "max      1727.00         224.00 49793.00"
      ]
     },
     "execution_count": 28,
     "metadata": {},
     "output_type": "execute_result"
    }
   ],
   "source": [
    "# <Посчитаем среднее и стандартное отклонение для тарифа ultra>\n",
    "users_all_ultra = users_all.query('tariff_name in \"ultra\"')[['call_used', 'messages_used', 'mb_used']]\n",
    "users_all_ultra.describe()"
   ]
  },
  {
   "cell_type": "code",
   "execution_count": 29,
   "metadata": {},
   "outputs": [
    {
     "data": {
      "text/html": [
       "<div>\n",
       "<style scoped>\n",
       "    .dataframe tbody tr th:only-of-type {\n",
       "        vertical-align: middle;\n",
       "    }\n",
       "\n",
       "    .dataframe tbody tr th {\n",
       "        vertical-align: top;\n",
       "    }\n",
       "\n",
       "    .dataframe thead th {\n",
       "        text-align: right;\n",
       "    }\n",
       "</style>\n",
       "<table border=\"1\" class=\"dataframe\">\n",
       "  <thead>\n",
       "    <tr style=\"text-align: right;\">\n",
       "      <th></th>\n",
       "      <th>call_used</th>\n",
       "      <th>messages_used</th>\n",
       "      <th>mb_used</th>\n",
       "    </tr>\n",
       "  </thead>\n",
       "  <tbody>\n",
       "    <tr>\n",
       "      <td>count</td>\n",
       "      <td>1915.00</td>\n",
       "      <td>1915.00</td>\n",
       "      <td>1915.00</td>\n",
       "    </tr>\n",
       "    <tr>\n",
       "      <td>mean</td>\n",
       "      <td>432.64</td>\n",
       "      <td>38.77</td>\n",
       "      <td>16274.11</td>\n",
       "    </tr>\n",
       "    <tr>\n",
       "      <td>std</td>\n",
       "      <td>192.22</td>\n",
       "      <td>26.81</td>\n",
       "      <td>5802.25</td>\n",
       "    </tr>\n",
       "    <tr>\n",
       "      <td>min</td>\n",
       "      <td>1.00</td>\n",
       "      <td>1.00</td>\n",
       "      <td>1.00</td>\n",
       "    </tr>\n",
       "    <tr>\n",
       "      <td>25%</td>\n",
       "      <td>295.00</td>\n",
       "      <td>17.00</td>\n",
       "      <td>12646.50</td>\n",
       "    </tr>\n",
       "    <tr>\n",
       "      <td>50%</td>\n",
       "      <td>440.00</td>\n",
       "      <td>34.00</td>\n",
       "      <td>16495.00</td>\n",
       "    </tr>\n",
       "    <tr>\n",
       "      <td>75%</td>\n",
       "      <td>561.50</td>\n",
       "      <td>55.00</td>\n",
       "      <td>20079.50</td>\n",
       "    </tr>\n",
       "    <tr>\n",
       "      <td>max</td>\n",
       "      <td>1471.00</td>\n",
       "      <td>143.00</td>\n",
       "      <td>38627.00</td>\n",
       "    </tr>\n",
       "  </tbody>\n",
       "</table>\n",
       "</div>"
      ],
      "text/plain": [
       "       call_used  messages_used  mb_used\n",
       "count    1915.00        1915.00  1915.00\n",
       "mean      432.64          38.77 16274.11\n",
       "std       192.22          26.81  5802.25\n",
       "min         1.00           1.00     1.00\n",
       "25%       295.00          17.00 12646.50\n",
       "50%       440.00          34.00 16495.00\n",
       "75%       561.50          55.00 20079.50\n",
       "max      1471.00         143.00 38627.00"
      ]
     },
     "execution_count": 29,
     "metadata": {},
     "output_type": "execute_result"
    }
   ],
   "source": [
    "# <Посчитаем среднее и стандартное отклонение для тарифа smart>\n",
    "users_all_smart = users_all.query('tariff_name in \"smart\"')[['call_used', 'messages_used', 'mb_used']]\n",
    "users_all_smart.describe()"
   ]
  },
  {
   "cell_type": "code",
   "execution_count": 30,
   "metadata": {},
   "outputs": [
    {
     "data": {
      "text/plain": [
       "call_used         102294.78\n",
       "messages_used       2008.55\n",
       "mb_used         92908699.37\n",
       "dtype: float64"
      ]
     },
     "execution_count": 30,
     "metadata": {},
     "output_type": "execute_result"
    }
   ],
   "source": [
    "# <Посчитаем дисперсию для тарифа ultra>\n",
    "pd.options.display.float_format = '{:.2f}'.format\n",
    "variance_ultra = np.var(users_all_ultra, ddof=1)\n",
    "variance_ultra"
   ]
  },
  {
   "cell_type": "code",
   "execution_count": 31,
   "metadata": {},
   "outputs": [
    {
     "data": {
      "text/plain": [
       "call_used          36947.86\n",
       "messages_used        718.80\n",
       "mb_used         33666130.53\n",
       "dtype: float64"
      ]
     },
     "execution_count": 31,
     "metadata": {},
     "output_type": "execute_result"
    }
   ],
   "source": [
    "# <Посчитаем дисперсию для тарифа smart>\n",
    "pd.options.display.float_format = '{:.2f}'.format\n",
    "variance_smart = np.var(users_all_smart, ddof=1)\n",
    "variance_smart"
   ]
  },
  {
   "cell_type": "code",
   "execution_count": 32,
   "metadata": {},
   "outputs": [
    {
     "data": {
      "text/plain": [
       "Text(0.5, 1.0, 'mb_used_smart')"
      ]
     },
     "execution_count": 32,
     "metadata": {},
     "output_type": "execute_result"
    },
    {
     "data": {
      "image/png": "[encoded data removed]",
      "text/plain": [
       "<Figure size 432x288 with 1 Axes>"
      ]
     },
     "metadata": {
      "needs_background": "light"
     },
     "output_type": "display_data"
    },
    {
     "data": {
      "image/png": "[encoded data removed]",
      "text/plain": [
       "<Figure size 432x288 with 1 Axes>"
      ]
     },
     "metadata": {
      "needs_background": "light"
     },
     "output_type": "display_data"
    },
    {
     "data": {
      "image/png": "[encoded data removed]",
      "text/plain": [
       "<Figure size 432x288 with 1 Axes>"
      ]
     },
     "metadata": {
      "needs_background": "light"
     },
     "output_type": "display_data"
    },
    {
     "data": {
      "image/png": "[encoded data removed]",
      "text/plain": [
       "<Figure size 432x288 with 1 Axes>"
      ]
     },
     "metadata": {
      "needs_background": "light"
     },
     "output_type": "display_data"
    },
    {
     "data": {
      "image/png": "[encoded data removed]",
      "text/plain": [
       "<Figure size 432x288 with 1 Axes>"
      ]
     },
     "metadata": {
      "needs_background": "light"
     },
     "output_type": "display_data"
    },
    {
     "data": {
      "image/png": "[encoded data removed]",
      "text/plain": [
       "<Figure size 432x288 with 1 Axes>"
      ]
     },
     "metadata": {
      "needs_background": "light"
     },
     "output_type": "display_data"
    }
   ],
   "source": [
    "# <Построение гистограмм>\n",
    "users_all_ultra.hist('call_used',bins=10, range = (0, 1800))\n",
    "plt.title('call_used_ultra')\n",
    "users_all_smart.hist('call_used',bins=10, range = (0, 1800))\n",
    "plt.title('call_used_smart')\n",
    "users_all_ultra.hist('messages_used',bins=10, range = (0, 225))\n",
    "plt.title('messages_used_ultra')\n",
    "users_all_smart.hist('messages_used',bins=10, range = (0, 225))\n",
    "plt.title('messages_used_smart')\n",
    "users_all_ultra.hist('mb_used',bins=10, range = (0, 50000))\n",
    "plt.title('mb_used_ultra')\n",
    "users_all_smart.hist('mb_used',bins=10, range = (0, 50000))\n",
    "plt.title('mb_used_smart')"
   ]
  },
  {
   "cell_type": "markdown",
   "metadata": {},
   "source": [
    "### Вывод"
   ]
  },
  {
   "cell_type": "markdown",
   "metadata": {},
   "source": [
    "По графикам видно, что на тарифе ultra пользователи в среднем ежемесячно больше расходуют минуты разговора, сообщения и объём интернет-трафика, чем на тарифе smart. При чем заметен явный рост расхода сообщений и объёма интернет-трафика под конец года на тарифе ultra. На тарифе smart явного роста не наблюдается, пользователи ежемесячно в среднем расходуют примерно одинаковой кол-во минут разговора, сообщения и объём интернет-трафика. Средняя выручка на одного пользователя по тарифу ultra примерно в 1,8 раза выше, чем у пользователя по тарифу smart."
   ]
  },
  {
   "cell_type": "markdown",
   "metadata": {},
   "source": [
    "### Шаг 4. Проверка гипотез"
   ]
  },
  {
   "cell_type": "markdown",
   "metadata": {},
   "source": [
    "Проверим 2 гипотезы:\n",
    "- средняя выручка пользователей тарифов «Ультра» и «Смарт» различается\n",
    "- средняя выручка пользователей из Москвы отличается от выручки пользователей из других регионов"
   ]
  },
  {
   "cell_type": "markdown",
   "metadata": {},
   "source": [
    "#### 4.1 Проверим первую гипотезу, что средняя выручка пользователей тарифов «Ультра» и «Смарт» различается:"
   ]
  },
  {
   "cell_type": "markdown",
   "metadata": {},
   "source": [
    "Нулевая гипотезу: средняя выручка пользователей тарифов «Ультра» и «Смарт» не различается.  \n",
    "Альтернативная гипотеза: средняя выручка пользователей тарифов «Ультра» и «Смарт» различается."
   ]
  },
  {
   "cell_type": "code",
   "execution_count": 33,
   "metadata": {},
   "outputs": [
    {
     "name": "stdout",
     "output_type": "stream",
     "text": [
      "p-значение:  2.1726212334409485e-134\n",
      "Отвергаем нулевую гипотезу\n"
     ]
    }
   ],
   "source": [
    "from scipy import stats as st\n",
    "\n",
    "smart_test = users_all.query('tariff_name == \"smart\"')['profit']\n",
    "ultra_test =  users_all.query('tariff_name == \"ultra\"')['profit']\n",
    "\n",
    "alpha = .05 # критический уровень статистической значимости, если pvalue окажется меньше него, отвергнем гипотезу.\n",
    "\n",
    "results = st.ttest_ind(\n",
    "    smart_test, \n",
    "    ultra_test)\n",
    "    \n",
    "print('p-значение: ', results.pvalue)\n",
    "    \n",
    "if (results.pvalue < alpha):\n",
    "    print(\"Отвергаем нулевую гипотезу\")\n",
    "else:\n",
    "    print(\"Не получилось отвергнуть нулевую гипотезу\")"
   ]
  },
  {
   "cell_type": "markdown",
   "metadata": {},
   "source": [
    "По проверенной гипотезе можно сделать вывод, что средняя выручка пользователей тарифов «Ультра» и «Смарт» различается (у тарифа «Ультра» она больше ~ в 1,8 раза). Вероятность получить одинаковые значения по средней выручки очень мала."
   ]
  },
  {
   "cell_type": "markdown",
   "metadata": {},
   "source": [
    "#### 4.2 Проверим вторую гипотезу, что средняя выручка пользователей из Москвы отличается от выручки пользователей из других регионов:"
   ]
  },
  {
   "cell_type": "markdown",
   "metadata": {},
   "source": [
    "Нулевая гипотеза: средняя выручка пользователей из Москвы не отличается от выручки пользователей из других регионов.  \n",
    "Альтернативная гипотеза: средняя выручка пользователей из Москвы отличается от выручки пользователей из других регионов."
   ]
  },
  {
   "cell_type": "code",
   "execution_count": 34,
   "metadata": {},
   "outputs": [
    {
     "name": "stdout",
     "output_type": "stream",
     "text": [
      "p-значение:  0.10099457739844288\n",
      "Не получилось отвергнуть нулевую гипотезу\n"
     ]
    }
   ],
   "source": [
    "moscow = users_all.query('city == \"Москва\"')['profit']\n",
    "other_city =  users_all.query('city != \"Москва\"')['profit']\n",
    "\n",
    "alpha = .05 # критический уровень статистической значимости, если pvalue окажется меньше него, отвергнем гипотезу.\n",
    "\n",
    "results = st.ttest_ind(\n",
    "    other_city, \n",
    "    moscow)\n",
    "    \n",
    "print('p-значение: ', results.pvalue)\n",
    "    \n",
    "if (results.pvalue < alpha):\n",
    "    print(\"Отвергаем нулевую гипотезу\")\n",
    "else:\n",
    "    print(\"Не получилось отвергнуть нулевую гипотезу\")"
   ]
  },
  {
   "cell_type": "markdown",
   "metadata": {},
   "source": [
    "По проверенной гипотезе можно сделать вывод, что средняя выручка пользователей из Москвы сильно не отличается от выручки пользователей из других регионов.  \n",
    "\n",
    " Для проверки гипотез использовали двусторонний тест, т.к. в задании вопрос формулировался, как отличаются средние величины и нет разницы в формулировке в задании между гипотезами."
   ]
  },
  {
   "cell_type": "code",
   "execution_count": 35,
   "metadata": {},
   "outputs": [
    {
     "name": "stdout",
     "output_type": "stream",
     "text": [
      "p-значение:  0.10099457739844288\n",
      "Не получилось отвергнуть нулевую гипотезу\n"
     ]
    }
   ],
   "source": [
    "#Пример\n",
    "moscow = users_all.query('city == \"Москва\"')['profit']\n",
    "other_city =  users_all.query('city != \"Москва\"')['profit']\n",
    "\n",
    "results = st.ttest_ind(\n",
    "    other_city, \n",
    "    moscow)\n",
    "    \n",
    "print('p-значение: ', results.pvalue)\n",
    "    \n",
    "if (results.pvalue < alpha):\n",
    "    print(\"Отвергаем нулевую гипотезу\")\n",
    "else:\n",
    "    print(\"Не получилось отвергнуть нулевую гипотезу\")"
   ]
  },
  {
   "cell_type": "markdown",
   "metadata": {},
   "source": [
    "Отсортируем данные и найдем ТОП 10 лучших/худших городов по средней выручке на одного пользователя.  \n",
    "\n",
    "#### ТОП 10 лучших:"
   ]
  },
  {
   "cell_type": "code",
   "execution_count": 36,
   "metadata": {},
   "outputs": [
    {
     "data": {
      "text/html": [
       "<div>\n",
       "<style scoped>\n",
       "    .dataframe tbody tr th:only-of-type {\n",
       "        vertical-align: middle;\n",
       "    }\n",
       "\n",
       "    .dataframe tbody tr th {\n",
       "        vertical-align: top;\n",
       "    }\n",
       "\n",
       "    .dataframe thead th {\n",
       "        text-align: right;\n",
       "    }\n",
       "</style>\n",
       "<table border=\"1\" class=\"dataframe\">\n",
       "  <thead>\n",
       "    <tr style=\"text-align: right;\">\n",
       "      <th></th>\n",
       "      <th>city</th>\n",
       "      <th>profit</th>\n",
       "      <th>user_id</th>\n",
       "    </tr>\n",
       "  </thead>\n",
       "  <tbody>\n",
       "    <tr>\n",
       "      <td>53</td>\n",
       "      <td>Севастополь</td>\n",
       "      <td>2252.93</td>\n",
       "      <td>4</td>\n",
       "    </tr>\n",
       "    <tr>\n",
       "      <td>41</td>\n",
       "      <td>Оренбург</td>\n",
       "      <td>2231.62</td>\n",
       "      <td>4</td>\n",
       "    </tr>\n",
       "    <tr>\n",
       "      <td>35</td>\n",
       "      <td>Нижний Новгород</td>\n",
       "      <td>2206.89</td>\n",
       "      <td>36</td>\n",
       "    </tr>\n",
       "    <tr>\n",
       "      <td>72</td>\n",
       "      <td>Череповец</td>\n",
       "      <td>2120.47</td>\n",
       "      <td>13</td>\n",
       "    </tr>\n",
       "    <tr>\n",
       "      <td>12</td>\n",
       "      <td>Воронеж</td>\n",
       "      <td>2033.51</td>\n",
       "      <td>27</td>\n",
       "    </tr>\n",
       "    <tr>\n",
       "      <td>5</td>\n",
       "      <td>Брянск</td>\n",
       "      <td>2023.94</td>\n",
       "      <td>27</td>\n",
       "    </tr>\n",
       "    <tr>\n",
       "      <td>26</td>\n",
       "      <td>Курган</td>\n",
       "      <td>1950.00</td>\n",
       "      <td>10</td>\n",
       "    </tr>\n",
       "    <tr>\n",
       "      <td>34</td>\n",
       "      <td>Нижневартовск</td>\n",
       "      <td>1950.00</td>\n",
       "      <td>6</td>\n",
       "    </tr>\n",
       "    <tr>\n",
       "      <td>15</td>\n",
       "      <td>Иваново</td>\n",
       "      <td>1950.00</td>\n",
       "      <td>2</td>\n",
       "    </tr>\n",
       "    <tr>\n",
       "      <td>58</td>\n",
       "      <td>Сургут</td>\n",
       "      <td>1950.00</td>\n",
       "      <td>6</td>\n",
       "    </tr>\n",
       "  </tbody>\n",
       "</table>\n",
       "</div>"
      ],
      "text/plain": [
       "               city  profit  user_id\n",
       "53      Севастополь 2252.93        4\n",
       "41         Оренбург 2231.62        4\n",
       "35  Нижний Новгород 2206.89       36\n",
       "72        Череповец 2120.47       13\n",
       "12          Воронеж 2033.51       27\n",
       "5            Брянск 2023.94       27\n",
       "26           Курган 1950.00       10\n",
       "34    Нижневартовск 1950.00        6\n",
       "15          Иваново 1950.00        2\n",
       "58           Сургут 1950.00        6"
      ]
     },
     "execution_count": 36,
     "metadata": {},
     "output_type": "execute_result"
    }
   ],
   "source": [
    "# <Сгруппируем данные в таблицу по убыванию прибыли с количество пользователей по городам>\n",
    "users_all_gr = (users_all\n",
    "    .groupby(['city']).agg({'profit' : 'mean', 'user_id' : 'count'})\n",
    "    .reset_index(level = 'city')\n",
    ")\n",
    "users_all_gr.sort_values('profit', ascending = False).head(10)"
   ]
  },
  {
   "cell_type": "markdown",
   "metadata": {},
   "source": [
    "#### ТОП 10 худших:"
   ]
  },
  {
   "cell_type": "code",
   "execution_count": 37,
   "metadata": {},
   "outputs": [
    {
     "data": {
      "text/html": [
       "<div>\n",
       "<style scoped>\n",
       "    .dataframe tbody tr th:only-of-type {\n",
       "        vertical-align: middle;\n",
       "    }\n",
       "\n",
       "    .dataframe tbody tr th {\n",
       "        vertical-align: top;\n",
       "    }\n",
       "\n",
       "    .dataframe thead th {\n",
       "        text-align: right;\n",
       "    }\n",
       "</style>\n",
       "<table border=\"1\" class=\"dataframe\">\n",
       "  <thead>\n",
       "    <tr style=\"text-align: right;\">\n",
       "      <th></th>\n",
       "      <th>city</th>\n",
       "      <th>profit</th>\n",
       "      <th>user_id</th>\n",
       "    </tr>\n",
       "  </thead>\n",
       "  <tbody>\n",
       "    <tr>\n",
       "      <td>37</td>\n",
       "      <td>Новокузнецк</td>\n",
       "      <td>1069.25</td>\n",
       "      <td>48</td>\n",
       "    </tr>\n",
       "    <tr>\n",
       "      <td>73</td>\n",
       "      <td>Чита</td>\n",
       "      <td>1054.42</td>\n",
       "      <td>16</td>\n",
       "    </tr>\n",
       "    <tr>\n",
       "      <td>42</td>\n",
       "      <td>Орёл</td>\n",
       "      <td>1020.96</td>\n",
       "      <td>18</td>\n",
       "    </tr>\n",
       "    <tr>\n",
       "      <td>46</td>\n",
       "      <td>Подольск</td>\n",
       "      <td>951.10</td>\n",
       "      <td>12</td>\n",
       "    </tr>\n",
       "    <tr>\n",
       "      <td>10</td>\n",
       "      <td>Волжский</td>\n",
       "      <td>779.19</td>\n",
       "      <td>7</td>\n",
       "    </tr>\n",
       "    <tr>\n",
       "      <td>38</td>\n",
       "      <td>Новороссийск</td>\n",
       "      <td>760.92</td>\n",
       "      <td>17</td>\n",
       "    </tr>\n",
       "    <tr>\n",
       "      <td>29</td>\n",
       "      <td>Магнитогорск</td>\n",
       "      <td>741.53</td>\n",
       "      <td>25</td>\n",
       "    </tr>\n",
       "    <tr>\n",
       "      <td>4</td>\n",
       "      <td>Белгород</td>\n",
       "      <td>727.83</td>\n",
       "      <td>15</td>\n",
       "    </tr>\n",
       "    <tr>\n",
       "      <td>69</td>\n",
       "      <td>Химки</td>\n",
       "      <td>610.26</td>\n",
       "      <td>5</td>\n",
       "    </tr>\n",
       "    <tr>\n",
       "      <td>59</td>\n",
       "      <td>Тамбов</td>\n",
       "      <td>601.06</td>\n",
       "      <td>23</td>\n",
       "    </tr>\n",
       "  </tbody>\n",
       "</table>\n",
       "</div>"
      ],
      "text/plain": [
       "            city  profit  user_id\n",
       "37   Новокузнецк 1069.25       48\n",
       "73          Чита 1054.42       16\n",
       "42          Орёл 1020.96       18\n",
       "46      Подольск  951.10       12\n",
       "10      Волжский  779.19        7\n",
       "38  Новороссийск  760.92       17\n",
       "29  Магнитогорск  741.53       25\n",
       "4       Белгород  727.83       15\n",
       "69         Химки  610.26        5\n",
       "59        Тамбов  601.06       23"
      ]
     },
     "execution_count": 37,
     "metadata": {},
     "output_type": "execute_result"
    }
   ],
   "source": [
    "users_all_gr.sort_values('profit', ascending = False).tail(10)"
   ]
  },
  {
   "cell_type": "markdown",
   "metadata": {},
   "source": [
    "### Вывод"
   ]
  },
  {
   "cell_type": "markdown",
   "metadata": {},
   "source": [
    "Обе гипотезы подтвердились. Самая лучшая средняя выручка в городах Севастополь, Оренбург и Нижний Новгород."
   ]
  },
  {
   "cell_type": "markdown",
   "metadata": {},
   "source": [
    "### Шаг 5. Общий вывод"
   ]
  },
  {
   "cell_type": "markdown",
   "metadata": {},
   "source": [
    "По проведенному анализу выявлено, что на тарифе ultra пользователи в среднем ежемесячно больше расходуют минуты разговора, сообщения и объём интернет-трафика, чем на тарифе smart. Были проверены две гипотезы. По первой подтвердилось, что средняя выручка пользователей тарифов «Ультра» и «Смарт» различается. Выручка по тарифу ultra на одного пользователя примерно в 1,8 раза приносит больше доход компании, чем тариф smart. По второй гипотезе определили, что средняя выручка пользователей из Москвы сильно не отличается от выручки пользователей из других регионов. Самые худшие города по средней выручке на одного пользователя Новороссикйск, Магнитогорск, Белгород, Химки и Тамбов. Возможно маркетинговому отделу компании стоит запустить какие-нибудь новые акциии в этих городах для привлечения новых клиентов по тарифу ultra."
   ]
  }
 ],
 "metadata": {
  "kernelspec": {
   "display_name": "Python 3",
   "language": "python",
   "name": "python3"
  },
  "language_info": {
   "codemirror_mode": {
    "name": "ipython",
    "version": 3
   },
   "file_extension": ".py",
   "mimetype": "text/x-python",
   "name": "python",
   "nbconvert_exporter": "python",
   "pygments_lexer": "ipython3",
   "version": "3.7.6"
  }
 },
 "nbformat": 4,
 "nbformat_minor": 2
}
