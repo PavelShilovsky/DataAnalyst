{
 "cells": [
  {
   "cell_type": "markdown",
   "metadata": {},
   "source": [
    "# Аналитика в Яндекс.Афише"
   ]
  },
  {
   "cell_type": "markdown",
   "metadata": {},
   "source": [
    "Вас пригласили на стажировку в отдел аналитики Яндекс.Афиши. Первое задание: помочь маркетологам оптимизировать маркетинговые затраты.\n",
    "У вас в распоряжении есть данные от Яндекс.Афиши с июня 2017 по конец мая 2018 года:\n",
    "- лог сервера с данными о посещениях сайта Яндекс.Афиши,\n",
    "- выгрузка всех заказов за этот период,\n",
    "статистика рекламных расходов.\n",
    "\n",
    "Вы изучите:\n",
    "- как люди пользуются продуктом,\n",
    "- когда они начинают покупать,\n",
    "- сколько денег приносит каждый клиент\n",
    "- когда клиент окупается."
   ]
  },
  {
   "cell_type": "markdown",
   "metadata": {},
   "source": [
    "### Описание данных:\n",
    "\n",
    "Таблица visits (лог сервера с информацией о посещениях сайта):\n",
    "- Uid — уникальный идентификатор пользователя\n",
    "- Device — категория устройства пользователя\n",
    "- Start Ts — дата и время начала сессии\n",
    "- End Ts — дата и время окончания сессии\n",
    "- Source Id — идентификатор рекламного источника, из которого пришел пользователь\n",
    "\n",
    "Таблица orders (информация о заказах):\n",
    "- Uid — уникальный id пользователя, который сделал заказ\n",
    "- Buy Ts — дата и время заказа\n",
    "- Revenue — выручка Яндекс.Афиши с этого заказа\n",
    "\n",
    "Таблица costs (информация о затратах на маркетинг):\n",
    "- source_id — идентификатор рекламного источника\n",
    "- dt — дата\n",
    "- costs — затраты на этот рекламный источник в этот день"
   ]
  },
  {
   "cell_type": "markdown",
   "metadata": {},
   "source": [
    "### Шаг 1. Загрузите данные и подготовьте их к анализу"
   ]
  },
  {
   "cell_type": "code",
   "execution_count": 1,
   "metadata": {},
   "outputs": [],
   "source": [
    "import pandas as pd\n",
    "import numpy as np\n",
    "\n",
    "import seaborn as sns\n",
    "from matplotlib import pyplot as plt"
   ]
  },
  {
   "cell_type": "code",
   "execution_count": 2,
   "metadata": {},
   "outputs": [],
   "source": [
    "visits = pd.read_csv('/datasets/visits_log.csv', sep=',')\n",
    "orders = pd.read_csv('/datasets/orders_log.csv', sep=',')\n",
    "costs = pd.read_csv('/datasets/costs.csv', sep=',')"
   ]
  },
  {
   "cell_type": "markdown",
   "metadata": {},
   "source": [
    "Получим общую информацию о данных:"
   ]
  },
  {
   "cell_type": "code",
   "execution_count": 3,
   "metadata": {},
   "outputs": [
    {
     "name": "stdout",
     "output_type": "stream",
     "text": [
      "<class 'pandas.core.frame.DataFrame'>\n",
      "RangeIndex: 359400 entries, 0 to 359399\n",
      "Data columns (total 5 columns):\n",
      "Device       359400 non-null object\n",
      "End Ts       359400 non-null object\n",
      "Source Id    359400 non-null int64\n",
      "Start Ts     359400 non-null object\n",
      "Uid          359400 non-null uint64\n",
      "dtypes: int64(1), object(3), uint64(1)\n",
      "memory usage: 13.7+ MB\n"
     ]
    }
   ],
   "source": [
    "visits.info()"
   ]
  },
  {
   "cell_type": "code",
   "execution_count": 4,
   "metadata": {},
   "outputs": [
    {
     "name": "stdout",
     "output_type": "stream",
     "text": [
      "<class 'pandas.core.frame.DataFrame'>\n",
      "RangeIndex: 50415 entries, 0 to 50414\n",
      "Data columns (total 3 columns):\n",
      "Buy Ts     50415 non-null object\n",
      "Revenue    50415 non-null float64\n",
      "Uid        50415 non-null uint64\n",
      "dtypes: float64(1), object(1), uint64(1)\n",
      "memory usage: 1.2+ MB\n"
     ]
    }
   ],
   "source": [
    "orders.info()"
   ]
  },
  {
   "cell_type": "code",
   "execution_count": 5,
   "metadata": {},
   "outputs": [
    {
     "name": "stdout",
     "output_type": "stream",
     "text": [
      "<class 'pandas.core.frame.DataFrame'>\n",
      "RangeIndex: 2542 entries, 0 to 2541\n",
      "Data columns (total 3 columns):\n",
      "source_id    2542 non-null int64\n",
      "dt           2542 non-null object\n",
      "costs        2542 non-null float64\n",
      "dtypes: float64(1), int64(1), object(1)\n",
      "memory usage: 59.7+ KB\n"
     ]
    }
   ],
   "source": [
    "costs.info()"
   ]
  },
  {
   "cell_type": "code",
   "execution_count": 6,
   "metadata": {},
   "outputs": [
    {
     "data": {
      "text/html": [
       "<div>\n",
       "<style scoped>\n",
       "    .dataframe tbody tr th:only-of-type {\n",
       "        vertical-align: middle;\n",
       "    }\n",
       "\n",
       "    .dataframe tbody tr th {\n",
       "        vertical-align: top;\n",
       "    }\n",
       "\n",
       "    .dataframe thead th {\n",
       "        text-align: right;\n",
       "    }\n",
       "</style>\n",
       "<table border=\"1\" class=\"dataframe\">\n",
       "  <thead>\n",
       "    <tr style=\"text-align: right;\">\n",
       "      <th></th>\n",
       "      <th>Device</th>\n",
       "      <th>End Ts</th>\n",
       "      <th>Source Id</th>\n",
       "      <th>Start Ts</th>\n",
       "      <th>Uid</th>\n",
       "    </tr>\n",
       "  </thead>\n",
       "  <tbody>\n",
       "    <tr>\n",
       "      <td>0</td>\n",
       "      <td>touch</td>\n",
       "      <td>2017-12-20 17:38:00</td>\n",
       "      <td>4</td>\n",
       "      <td>2017-12-20 17:20:00</td>\n",
       "      <td>16879256277535980062</td>\n",
       "    </tr>\n",
       "    <tr>\n",
       "      <td>1</td>\n",
       "      <td>desktop</td>\n",
       "      <td>2018-02-19 17:21:00</td>\n",
       "      <td>2</td>\n",
       "      <td>2018-02-19 16:53:00</td>\n",
       "      <td>104060357244891740</td>\n",
       "    </tr>\n",
       "    <tr>\n",
       "      <td>2</td>\n",
       "      <td>touch</td>\n",
       "      <td>2017-07-01 01:54:00</td>\n",
       "      <td>5</td>\n",
       "      <td>2017-07-01 01:54:00</td>\n",
       "      <td>7459035603376831527</td>\n",
       "    </tr>\n",
       "    <tr>\n",
       "      <td>3</td>\n",
       "      <td>desktop</td>\n",
       "      <td>2018-05-20 11:23:00</td>\n",
       "      <td>9</td>\n",
       "      <td>2018-05-20 10:59:00</td>\n",
       "      <td>16174680259334210214</td>\n",
       "    </tr>\n",
       "    <tr>\n",
       "      <td>4</td>\n",
       "      <td>desktop</td>\n",
       "      <td>2017-12-27 14:06:00</td>\n",
       "      <td>3</td>\n",
       "      <td>2017-12-27 14:06:00</td>\n",
       "      <td>9969694820036681168</td>\n",
       "    </tr>\n",
       "    <tr>\n",
       "      <td>5</td>\n",
       "      <td>desktop</td>\n",
       "      <td>2017-09-03 21:36:00</td>\n",
       "      <td>5</td>\n",
       "      <td>2017-09-03 21:35:00</td>\n",
       "      <td>16007536194108375387</td>\n",
       "    </tr>\n",
       "    <tr>\n",
       "      <td>6</td>\n",
       "      <td>desktop</td>\n",
       "      <td>2018-01-30 12:09:00</td>\n",
       "      <td>1</td>\n",
       "      <td>2018-01-30 11:13:00</td>\n",
       "      <td>6661610529277171451</td>\n",
       "    </tr>\n",
       "    <tr>\n",
       "      <td>7</td>\n",
       "      <td>touch</td>\n",
       "      <td>2017-11-05 15:15:00</td>\n",
       "      <td>3</td>\n",
       "      <td>2017-11-05 15:14:00</td>\n",
       "      <td>11423865690854540312</td>\n",
       "    </tr>\n",
       "    <tr>\n",
       "      <td>8</td>\n",
       "      <td>desktop</td>\n",
       "      <td>2017-07-19 10:44:00</td>\n",
       "      <td>3</td>\n",
       "      <td>2017-07-19 10:41:00</td>\n",
       "      <td>2987360259350925644</td>\n",
       "    </tr>\n",
       "    <tr>\n",
       "      <td>9</td>\n",
       "      <td>desktop</td>\n",
       "      <td>2017-11-08 13:43:00</td>\n",
       "      <td>5</td>\n",
       "      <td>2017-11-08 13:42:00</td>\n",
       "      <td>1289240080042562063</td>\n",
       "    </tr>\n",
       "  </tbody>\n",
       "</table>\n",
       "</div>"
      ],
      "text/plain": [
       "    Device               End Ts  Source Id             Start Ts  \\\n",
       "0    touch  2017-12-20 17:38:00          4  2017-12-20 17:20:00   \n",
       "1  desktop  2018-02-19 17:21:00          2  2018-02-19 16:53:00   \n",
       "2    touch  2017-07-01 01:54:00          5  2017-07-01 01:54:00   \n",
       "3  desktop  2018-05-20 11:23:00          9  2018-05-20 10:59:00   \n",
       "4  desktop  2017-12-27 14:06:00          3  2017-12-27 14:06:00   \n",
       "5  desktop  2017-09-03 21:36:00          5  2017-09-03 21:35:00   \n",
       "6  desktop  2018-01-30 12:09:00          1  2018-01-30 11:13:00   \n",
       "7    touch  2017-11-05 15:15:00          3  2017-11-05 15:14:00   \n",
       "8  desktop  2017-07-19 10:44:00          3  2017-07-19 10:41:00   \n",
       "9  desktop  2017-11-08 13:43:00          5  2017-11-08 13:42:00   \n",
       "\n",
       "                    Uid  \n",
       "0  16879256277535980062  \n",
       "1    104060357244891740  \n",
       "2   7459035603376831527  \n",
       "3  16174680259334210214  \n",
       "4   9969694820036681168  \n",
       "5  16007536194108375387  \n",
       "6   6661610529277171451  \n",
       "7  11423865690854540312  \n",
       "8   2987360259350925644  \n",
       "9   1289240080042562063  "
      ]
     },
     "execution_count": 6,
     "metadata": {},
     "output_type": "execute_result"
    }
   ],
   "source": [
    "visits.head(10)"
   ]
  },
  {
   "cell_type": "code",
   "execution_count": 7,
   "metadata": {},
   "outputs": [
    {
     "data": {
      "text/html": [
       "<div>\n",
       "<style scoped>\n",
       "    .dataframe tbody tr th:only-of-type {\n",
       "        vertical-align: middle;\n",
       "    }\n",
       "\n",
       "    .dataframe tbody tr th {\n",
       "        vertical-align: top;\n",
       "    }\n",
       "\n",
       "    .dataframe thead th {\n",
       "        text-align: right;\n",
       "    }\n",
       "</style>\n",
       "<table border=\"1\" class=\"dataframe\">\n",
       "  <thead>\n",
       "    <tr style=\"text-align: right;\">\n",
       "      <th></th>\n",
       "      <th>Buy Ts</th>\n",
       "      <th>Revenue</th>\n",
       "      <th>Uid</th>\n",
       "    </tr>\n",
       "  </thead>\n",
       "  <tbody>\n",
       "    <tr>\n",
       "      <td>0</td>\n",
       "      <td>2017-06-01 00:10:00</td>\n",
       "      <td>17.00</td>\n",
       "      <td>10329302124590727494</td>\n",
       "    </tr>\n",
       "    <tr>\n",
       "      <td>1</td>\n",
       "      <td>2017-06-01 00:25:00</td>\n",
       "      <td>0.55</td>\n",
       "      <td>11627257723692907447</td>\n",
       "    </tr>\n",
       "    <tr>\n",
       "      <td>2</td>\n",
       "      <td>2017-06-01 00:27:00</td>\n",
       "      <td>0.37</td>\n",
       "      <td>17903680561304213844</td>\n",
       "    </tr>\n",
       "    <tr>\n",
       "      <td>3</td>\n",
       "      <td>2017-06-01 00:29:00</td>\n",
       "      <td>0.55</td>\n",
       "      <td>16109239769442553005</td>\n",
       "    </tr>\n",
       "    <tr>\n",
       "      <td>4</td>\n",
       "      <td>2017-06-01 07:58:00</td>\n",
       "      <td>0.37</td>\n",
       "      <td>14200605875248379450</td>\n",
       "    </tr>\n",
       "    <tr>\n",
       "      <td>5</td>\n",
       "      <td>2017-06-01 08:43:00</td>\n",
       "      <td>0.18</td>\n",
       "      <td>10402394430196413321</td>\n",
       "    </tr>\n",
       "    <tr>\n",
       "      <td>6</td>\n",
       "      <td>2017-06-01 08:54:00</td>\n",
       "      <td>1.83</td>\n",
       "      <td>12464626743129688638</td>\n",
       "    </tr>\n",
       "    <tr>\n",
       "      <td>7</td>\n",
       "      <td>2017-06-01 09:22:00</td>\n",
       "      <td>1.22</td>\n",
       "      <td>3644482766749211722</td>\n",
       "    </tr>\n",
       "    <tr>\n",
       "      <td>8</td>\n",
       "      <td>2017-06-01 09:22:00</td>\n",
       "      <td>3.30</td>\n",
       "      <td>17542070709969841479</td>\n",
       "    </tr>\n",
       "    <tr>\n",
       "      <td>9</td>\n",
       "      <td>2017-06-01 09:23:00</td>\n",
       "      <td>0.37</td>\n",
       "      <td>1074355127080856382</td>\n",
       "    </tr>\n",
       "  </tbody>\n",
       "</table>\n",
       "</div>"
      ],
      "text/plain": [
       "                Buy Ts  Revenue                   Uid\n",
       "0  2017-06-01 00:10:00    17.00  10329302124590727494\n",
       "1  2017-06-01 00:25:00     0.55  11627257723692907447\n",
       "2  2017-06-01 00:27:00     0.37  17903680561304213844\n",
       "3  2017-06-01 00:29:00     0.55  16109239769442553005\n",
       "4  2017-06-01 07:58:00     0.37  14200605875248379450\n",
       "5  2017-06-01 08:43:00     0.18  10402394430196413321\n",
       "6  2017-06-01 08:54:00     1.83  12464626743129688638\n",
       "7  2017-06-01 09:22:00     1.22   3644482766749211722\n",
       "8  2017-06-01 09:22:00     3.30  17542070709969841479\n",
       "9  2017-06-01 09:23:00     0.37   1074355127080856382"
      ]
     },
     "execution_count": 7,
     "metadata": {},
     "output_type": "execute_result"
    }
   ],
   "source": [
    "orders.head(10)"
   ]
  },
  {
   "cell_type": "code",
   "execution_count": 8,
   "metadata": {},
   "outputs": [
    {
     "data": {
      "text/html": [
       "<div>\n",
       "<style scoped>\n",
       "    .dataframe tbody tr th:only-of-type {\n",
       "        vertical-align: middle;\n",
       "    }\n",
       "\n",
       "    .dataframe tbody tr th {\n",
       "        vertical-align: top;\n",
       "    }\n",
       "\n",
       "    .dataframe thead th {\n",
       "        text-align: right;\n",
       "    }\n",
       "</style>\n",
       "<table border=\"1\" class=\"dataframe\">\n",
       "  <thead>\n",
       "    <tr style=\"text-align: right;\">\n",
       "      <th></th>\n",
       "      <th>source_id</th>\n",
       "      <th>dt</th>\n",
       "      <th>costs</th>\n",
       "    </tr>\n",
       "  </thead>\n",
       "  <tbody>\n",
       "    <tr>\n",
       "      <td>0</td>\n",
       "      <td>1</td>\n",
       "      <td>2017-06-01</td>\n",
       "      <td>75.20</td>\n",
       "    </tr>\n",
       "    <tr>\n",
       "      <td>1</td>\n",
       "      <td>1</td>\n",
       "      <td>2017-06-02</td>\n",
       "      <td>62.25</td>\n",
       "    </tr>\n",
       "    <tr>\n",
       "      <td>2</td>\n",
       "      <td>1</td>\n",
       "      <td>2017-06-03</td>\n",
       "      <td>36.53</td>\n",
       "    </tr>\n",
       "    <tr>\n",
       "      <td>3</td>\n",
       "      <td>1</td>\n",
       "      <td>2017-06-04</td>\n",
       "      <td>55.00</td>\n",
       "    </tr>\n",
       "    <tr>\n",
       "      <td>4</td>\n",
       "      <td>1</td>\n",
       "      <td>2017-06-05</td>\n",
       "      <td>57.08</td>\n",
       "    </tr>\n",
       "    <tr>\n",
       "      <td>5</td>\n",
       "      <td>1</td>\n",
       "      <td>2017-06-06</td>\n",
       "      <td>40.39</td>\n",
       "    </tr>\n",
       "    <tr>\n",
       "      <td>6</td>\n",
       "      <td>1</td>\n",
       "      <td>2017-06-07</td>\n",
       "      <td>40.59</td>\n",
       "    </tr>\n",
       "    <tr>\n",
       "      <td>7</td>\n",
       "      <td>1</td>\n",
       "      <td>2017-06-08</td>\n",
       "      <td>56.63</td>\n",
       "    </tr>\n",
       "    <tr>\n",
       "      <td>8</td>\n",
       "      <td>1</td>\n",
       "      <td>2017-06-09</td>\n",
       "      <td>40.16</td>\n",
       "    </tr>\n",
       "    <tr>\n",
       "      <td>9</td>\n",
       "      <td>1</td>\n",
       "      <td>2017-06-10</td>\n",
       "      <td>43.24</td>\n",
       "    </tr>\n",
       "  </tbody>\n",
       "</table>\n",
       "</div>"
      ],
      "text/plain": [
       "   source_id          dt  costs\n",
       "0          1  2017-06-01  75.20\n",
       "1          1  2017-06-02  62.25\n",
       "2          1  2017-06-03  36.53\n",
       "3          1  2017-06-04  55.00\n",
       "4          1  2017-06-05  57.08\n",
       "5          1  2017-06-06  40.39\n",
       "6          1  2017-06-07  40.59\n",
       "7          1  2017-06-08  56.63\n",
       "8          1  2017-06-09  40.16\n",
       "9          1  2017-06-10  43.24"
      ]
     },
     "execution_count": 8,
     "metadata": {},
     "output_type": "execute_result"
    }
   ],
   "source": [
    "costs.head(10)"
   ]
  },
  {
   "cell_type": "markdown",
   "metadata": {},
   "source": [
    "Приведём название столбцов к нижнему регистру"
   ]
  },
  {
   "cell_type": "code",
   "execution_count": 9,
   "metadata": {},
   "outputs": [],
   "source": [
    "# <Приведение к нижнему регистру>\n",
    "visits.columns = map(str.lower, visits.columns)\n",
    "orders.columns = map(str.lower, orders.columns)"
   ]
  },
  {
   "cell_type": "markdown",
   "metadata": {},
   "source": [
    "### Замена типа данных"
   ]
  },
  {
   "cell_type": "markdown",
   "metadata": {},
   "source": [
    "Замени тип данных в столбцах с датой с object на datetime"
   ]
  },
  {
   "cell_type": "code",
   "execution_count": 10,
   "metadata": {},
   "outputs": [],
   "source": [
    "# <Замена типа данных на datetime>\n",
    "visits['end ts'] = pd.to_datetime(visits['end ts'], format='%Y-%m-%d')\n",
    "visits['start ts'] = pd.to_datetime(visits['start ts'], format='%Y-%m-%d')\n",
    "orders['buy ts'] = pd.to_datetime(orders['buy ts'], format='%Y-%m-%d')\n",
    "costs['dt'] = pd.to_datetime(costs['dt'], format='%Y-%m-%d')"
   ]
  },
  {
   "cell_type": "markdown",
   "metadata": {},
   "source": [
    "### Шаг 2. Постройте отчёты и посчитайте метрики"
   ]
  },
  {
   "cell_type": "markdown",
   "metadata": {},
   "source": [
    "### 2.1 Продукт"
   ]
  },
  {
   "cell_type": "markdown",
   "metadata": {},
   "source": [
    "#### Сколько людей пользуются в день, неделю, месяц?"
   ]
  },
  {
   "cell_type": "markdown",
   "metadata": {},
   "source": [
    "Изучим данные пользовательской активности, найдя сколько людей пользуются продуктом в день, неделю, месяц."
   ]
  },
  {
   "cell_type": "code",
   "execution_count": 11,
   "metadata": {},
   "outputs": [],
   "source": [
    "# <Добавление в таблицу visits столбцов с месяцем, неделей и датой>\n",
    "visits['session_month']  = visits['start ts'].dt.month\n",
    "visits['session_week']  = visits['start ts'].dt.week\n",
    "visits['session_date'] = visits['start ts'].dt.date"
   ]
  },
  {
   "cell_type": "markdown",
   "metadata": {},
   "source": [
    "Посчитаем метрики. Сгруппируем данные по уникальным пользователям и найдём среднее:"
   ]
  },
  {
   "cell_type": "code",
   "execution_count": 12,
   "metadata": {},
   "outputs": [],
   "source": [
    "# <Посчитаем среднее кол-во, использующих продукт людей>\n",
    "mau_total = visits.groupby('session_month').agg({'uid': 'nunique'}).mean()\n",
    "wau_total = visits.groupby('session_week').agg({'uid': 'nunique'}).mean()\n",
    "dau_total = visits.groupby('session_date').agg({'uid': 'nunique'}).mean()"
   ]
  },
  {
   "cell_type": "code",
   "execution_count": 13,
   "metadata": {},
   "outputs": [
    {
     "name": "stdout",
     "output_type": "stream",
     "text": [
      "23228\n",
      "5825\n",
      "907\n"
     ]
    }
   ],
   "source": [
    "print(int(mau_total))\n",
    "print(int(wau_total))\n",
    "print(int(dau_total))"
   ]
  },
  {
   "cell_type": "markdown",
   "metadata": {},
   "source": [
    "В среднем в день продуктом пользуются 907 раз"
   ]
  },
  {
   "cell_type": "code",
   "execution_count": 14,
   "metadata": {},
   "outputs": [],
   "source": [
    "# <Посчитаем регулярность использования>\n",
    "sticky_wau = dau_total / wau_total *100\n",
    "sticky_mau = dau_total / mau_total *100"
   ]
  },
  {
   "cell_type": "code",
   "execution_count": 15,
   "metadata": {},
   "outputs": [
    {
     "name": "stdout",
     "output_type": "stream",
     "text": [
      "15.59\n",
      "3.91\n"
     ]
    }
   ],
   "source": [
    "print(float(sticky_wau.round(2)))\n",
    "print(float(sticky_mau.round(2)))"
   ]
  },
  {
   "cell_type": "markdown",
   "metadata": {},
   "source": [
    "Построим график с количеством уникальных визитов по устройствам"
   ]
  },
  {
   "cell_type": "code",
   "execution_count": 16,
   "metadata": {},
   "outputs": [
    {
     "data": {
      "text/plain": [
       "Text(0.5, 1.0, 'График количества визитов по устройствам')"
      ]
     },
     "execution_count": 16,
     "metadata": {},
     "output_type": "execute_result"
    },
    {
     "data": {
      "image/png": "[encoded data removed]",
      "text/plain": [
       "<Figure size 1152x288 with 1 Axes>"
      ]
     },
     "metadata": {
      "needs_background": "light"
     },
     "output_type": "display_data"
    }
   ],
   "source": [
    "# <График количества визитов по устройствам>\n",
    "device_plot = visits.pivot_table(index='session_month', columns='device', values='uid', aggfunc='nunique').plot(grid=True, kind='bar', figsize=(16, 4))\n",
    "plt.xlabel('Месяц визита')\n",
    "plt.ylabel('Количество визитов')\n",
    "plt.title('График количества визитов по устройствам')"
   ]
  },
  {
   "cell_type": "markdown",
   "metadata": {},
   "source": [
    "#### Вывод"
   ]
  },
  {
   "cell_type": "markdown",
   "metadata": {},
   "source": [
    "В среднем в день продуктом пользуются 907 раз. С компьютера заходят примерно в 2,5 раза чаще, чем с мобильных устройств. Пиковые месяцы - октябрь, ноябрь и декабрь. Самые не активные летние. Можно предположить, что это объясняется периодом отпусков."
   ]
  },
  {
   "cell_type": "markdown",
   "metadata": {},
   "source": [
    "#### Сколько сессий в день?"
   ]
  },
  {
   "cell_type": "markdown",
   "metadata": {},
   "source": [
    "Найдем сколько сессий в среднем в день."
   ]
  },
  {
   "cell_type": "code",
   "execution_count": 17,
   "metadata": {},
   "outputs": [
    {
     "data": {
      "text/plain": [
       "987.3626373626373"
      ]
     },
     "execution_count": 17,
     "metadata": {},
     "output_type": "execute_result"
    }
   ],
   "source": [
    "# <Группировка данных и расчет кол-во сессий в день>\n",
    "sessions_user = visits.groupby('session_date').agg({'uid': ['count']})\n",
    "sessions_user.columns = ['sum_sessions']\n",
    "sessions_user['sum_sessions'].mean()"
   ]
  },
  {
   "cell_type": "markdown",
   "metadata": {},
   "source": [
    "Далее определим сколько сессий приходится на одного пользователя в месяц."
   ]
  },
  {
   "cell_type": "code",
   "execution_count": 18,
   "metadata": {},
   "outputs": [
    {
     "data": {
      "text/html": [
       "<div>\n",
       "<style scoped>\n",
       "    .dataframe tbody tr th:only-of-type {\n",
       "        vertical-align: middle;\n",
       "    }\n",
       "\n",
       "    .dataframe tbody tr th {\n",
       "        vertical-align: top;\n",
       "    }\n",
       "\n",
       "    .dataframe thead th {\n",
       "        text-align: right;\n",
       "    }\n",
       "</style>\n",
       "<table border=\"1\" class=\"dataframe\">\n",
       "  <thead>\n",
       "    <tr style=\"text-align: right;\">\n",
       "      <th></th>\n",
       "      <th>n_sessions</th>\n",
       "      <th>n_users</th>\n",
       "      <th>sess_per_user</th>\n",
       "    </tr>\n",
       "    <tr>\n",
       "      <th>session_month</th>\n",
       "      <th></th>\n",
       "      <th></th>\n",
       "      <th></th>\n",
       "    </tr>\n",
       "  </thead>\n",
       "  <tbody>\n",
       "    <tr>\n",
       "      <td>1</td>\n",
       "      <td>36939</td>\n",
       "      <td>28716</td>\n",
       "      <td>1.286356</td>\n",
       "    </tr>\n",
       "    <tr>\n",
       "      <td>2</td>\n",
       "      <td>37182</td>\n",
       "      <td>28749</td>\n",
       "      <td>1.293332</td>\n",
       "    </tr>\n",
       "    <tr>\n",
       "      <td>3</td>\n",
       "      <td>35679</td>\n",
       "      <td>27473</td>\n",
       "      <td>1.298693</td>\n",
       "    </tr>\n",
       "    <tr>\n",
       "      <td>4</td>\n",
       "      <td>26515</td>\n",
       "      <td>21008</td>\n",
       "      <td>1.262138</td>\n",
       "    </tr>\n",
       "    <tr>\n",
       "      <td>5</td>\n",
       "      <td>26635</td>\n",
       "      <td>20701</td>\n",
       "      <td>1.286653</td>\n",
       "    </tr>\n",
       "    <tr>\n",
       "      <td>6</td>\n",
       "      <td>16505</td>\n",
       "      <td>13259</td>\n",
       "      <td>1.244815</td>\n",
       "    </tr>\n",
       "    <tr>\n",
       "      <td>7</td>\n",
       "      <td>17828</td>\n",
       "      <td>14183</td>\n",
       "      <td>1.256998</td>\n",
       "    </tr>\n",
       "    <tr>\n",
       "      <td>8</td>\n",
       "      <td>14355</td>\n",
       "      <td>11631</td>\n",
       "      <td>1.234202</td>\n",
       "    </tr>\n",
       "    <tr>\n",
       "      <td>9</td>\n",
       "      <td>23907</td>\n",
       "      <td>18975</td>\n",
       "      <td>1.259921</td>\n",
       "    </tr>\n",
       "    <tr>\n",
       "      <td>10</td>\n",
       "      <td>37903</td>\n",
       "      <td>29692</td>\n",
       "      <td>1.276539</td>\n",
       "    </tr>\n",
       "    <tr>\n",
       "      <td>11</td>\n",
       "      <td>43969</td>\n",
       "      <td>32797</td>\n",
       "      <td>1.340641</td>\n",
       "    </tr>\n",
       "    <tr>\n",
       "      <td>12</td>\n",
       "      <td>41983</td>\n",
       "      <td>31557</td>\n",
       "      <td>1.330386</td>\n",
       "    </tr>\n",
       "  </tbody>\n",
       "</table>\n",
       "</div>"
      ],
      "text/plain": [
       "               n_sessions  n_users  sess_per_user\n",
       "session_month                                    \n",
       "1                   36939    28716       1.286356\n",
       "2                   37182    28749       1.293332\n",
       "3                   35679    27473       1.298693\n",
       "4                   26515    21008       1.262138\n",
       "5                   26635    20701       1.286653\n",
       "6                   16505    13259       1.244815\n",
       "7                   17828    14183       1.256998\n",
       "8                   14355    11631       1.234202\n",
       "9                   23907    18975       1.259921\n",
       "10                  37903    29692       1.276539\n",
       "11                  43969    32797       1.340641\n",
       "12                  41983    31557       1.330386"
      ]
     },
     "execution_count": 18,
     "metadata": {},
     "output_type": "execute_result"
    }
   ],
   "source": [
    "# <Группировка данных и расчет кол-во сессий на одного пользователя в месяц>\n",
    "sessions_user = visits.groupby('session_month').agg({'uid': ['count','nunique']})\n",
    "sessions_user.columns = ['n_sessions', 'n_users']\n",
    "sessions_user['sess_per_user'] = (sessions_user['n_sessions'] / sessions_user['n_users'])\n",
    "sessions_user"
   ]
  },
  {
   "cell_type": "code",
   "execution_count": 19,
   "metadata": {},
   "outputs": [
    {
     "data": {
      "text/plain": [
       "Text(0.5, 1.0, 'График количества сессий на одного пользователя в месяц')"
      ]
     },
     "execution_count": 19,
     "metadata": {},
     "output_type": "execute_result"
    },
    {
     "data": {
      "image/png": "[encoded data removed]",
      "text/plain": [
       "<Figure size 864x288 with 1 Axes>"
      ]
     },
     "metadata": {
      "needs_background": "light"
     },
     "output_type": "display_data"
    }
   ],
   "source": [
    "sessions_user['sess_per_user'].plot(grid=True, figsize=(12, 4))\n",
    "plt.title('График количества сессий на одного пользователя в месяц')"
   ]
  },
  {
   "cell_type": "markdown",
   "metadata": {},
   "source": [
    "#### Вывод"
   ]
  },
  {
   "cell_type": "markdown",
   "metadata": {},
   "source": [
    "В месяц один пользователь в среднем проводит в приложении максимум 1.3 сессии. Не сказать, что продукт используется регулярно"
   ]
  },
  {
   "cell_type": "markdown",
   "metadata": {},
   "source": [
    "#### Сколько длится одна сессия? "
   ]
  },
  {
   "cell_type": "markdown",
   "metadata": {},
   "source": [
    "Найдем сколько в среднем длится одна сессия"
   ]
  },
  {
   "cell_type": "code",
   "execution_count": 20,
   "metadata": {},
   "outputs": [
    {
     "data": {
      "text/plain": [
       "643.506488592098"
      ]
     },
     "execution_count": 20,
     "metadata": {},
     "output_type": "execute_result"
    }
   ],
   "source": [
    "# <Добавим столбец и посчитаем среднее>\n",
    "visits['session_duration_sec'] = (visits['end ts'] - visits['start ts']).dt.seconds\n",
    "visits['session_duration_sec'].mean()"
   ]
  },
  {
   "cell_type": "markdown",
   "metadata": {},
   "source": [
    "Посмотрим на распределение"
   ]
  },
  {
   "cell_type": "code",
   "execution_count": 21,
   "metadata": {},
   "outputs": [
    {
     "data": {
      "text/plain": [
       "<matplotlib.axes._subplots.AxesSubplot at 0x7fe52593d210>"
      ]
     },
     "execution_count": 21,
     "metadata": {},
     "output_type": "execute_result"
    },
    {
     "data": {
      "image/png": "[encoded data removed]",
      "text/plain": [
       "<Figure size 432x288 with 1 Axes>"
      ]
     },
     "metadata": {
      "needs_background": "light"
     },
     "output_type": "display_data"
    }
   ],
   "source": [
    "# <Построим гистограмму>\n",
    "visits['session_duration_sec'].hist(bins=50)"
   ]
  },
  {
   "cell_type": "markdown",
   "metadata": {},
   "source": [
    "Длина сессий распределена неравномерно, поэтому далее рассчитаем моду:"
   ]
  },
  {
   "cell_type": "code",
   "execution_count": 22,
   "metadata": {},
   "outputs": [
    {
     "data": {
      "text/plain": [
       "60"
      ]
     },
     "execution_count": 22,
     "metadata": {},
     "output_type": "execute_result"
    }
   ],
   "source": [
    "int(visits['session_duration_sec'].mode())"
   ]
  },
  {
   "cell_type": "markdown",
   "metadata": {},
   "source": [
    "#### Вывод"
   ]
  },
  {
   "cell_type": "markdown",
   "metadata": {},
   "source": [
    "Мода равняется 60 секундам. Если пользователь успевает за это время сделать заказ, то всё отлично, а если нет — нужно проверить, что ему мешает."
   ]
  },
  {
   "cell_type": "markdown",
   "metadata": {},
   "source": [
    "#### Как часто люди возвращаются?"
   ]
  },
  {
   "cell_type": "code",
   "execution_count": 23,
   "metadata": {},
   "outputs": [
    {
     "data": {
      "text/html": [
       "<div>\n",
       "<style scoped>\n",
       "    .dataframe tbody tr th:only-of-type {\n",
       "        vertical-align: middle;\n",
       "    }\n",
       "\n",
       "    .dataframe tbody tr th {\n",
       "        vertical-align: top;\n",
       "    }\n",
       "\n",
       "    .dataframe thead th {\n",
       "        text-align: right;\n",
       "    }\n",
       "</style>\n",
       "<table border=\"1\" class=\"dataframe\">\n",
       "  <thead>\n",
       "    <tr style=\"text-align: right;\">\n",
       "      <th></th>\n",
       "      <th>uid</th>\n",
       "      <th>start ts</th>\n",
       "      <th>source id</th>\n",
       "      <th>device</th>\n",
       "      <th>first_session_date</th>\n",
       "      <th>session_month</th>\n",
       "      <th>first_session_month</th>\n",
       "    </tr>\n",
       "  </thead>\n",
       "  <tbody>\n",
       "    <tr>\n",
       "      <td>0</td>\n",
       "      <td>16879256277535980062</td>\n",
       "      <td>2017-12-20 17:20:00</td>\n",
       "      <td>4</td>\n",
       "      <td>touch</td>\n",
       "      <td>2017-12-20 17:20:00</td>\n",
       "      <td>2017-12-01</td>\n",
       "      <td>2017-12-01</td>\n",
       "    </tr>\n",
       "    <tr>\n",
       "      <td>1</td>\n",
       "      <td>104060357244891740</td>\n",
       "      <td>2018-02-19 16:53:00</td>\n",
       "      <td>2</td>\n",
       "      <td>desktop</td>\n",
       "      <td>2018-02-19 16:53:00</td>\n",
       "      <td>2018-02-01</td>\n",
       "      <td>2018-02-01</td>\n",
       "    </tr>\n",
       "    <tr>\n",
       "      <td>2</td>\n",
       "      <td>7459035603376831527</td>\n",
       "      <td>2017-07-01 01:54:00</td>\n",
       "      <td>5</td>\n",
       "      <td>touch</td>\n",
       "      <td>2017-07-01 01:54:00</td>\n",
       "      <td>2017-07-01</td>\n",
       "      <td>2017-07-01</td>\n",
       "    </tr>\n",
       "    <tr>\n",
       "      <td>3</td>\n",
       "      <td>16174680259334210214</td>\n",
       "      <td>2018-05-20 10:59:00</td>\n",
       "      <td>9</td>\n",
       "      <td>desktop</td>\n",
       "      <td>2018-03-09 20:05:00</td>\n",
       "      <td>2018-05-01</td>\n",
       "      <td>2018-03-01</td>\n",
       "    </tr>\n",
       "    <tr>\n",
       "      <td>4</td>\n",
       "      <td>9969694820036681168</td>\n",
       "      <td>2017-12-27 14:06:00</td>\n",
       "      <td>3</td>\n",
       "      <td>desktop</td>\n",
       "      <td>2017-12-27 14:06:00</td>\n",
       "      <td>2017-12-01</td>\n",
       "      <td>2017-12-01</td>\n",
       "    </tr>\n",
       "  </tbody>\n",
       "</table>\n",
       "</div>"
      ],
      "text/plain": [
       "                    uid            start ts  source id   device  \\\n",
       "0  16879256277535980062 2017-12-20 17:20:00          4    touch   \n",
       "1    104060357244891740 2018-02-19 16:53:00          2  desktop   \n",
       "2   7459035603376831527 2017-07-01 01:54:00          5    touch   \n",
       "3  16174680259334210214 2018-05-20 10:59:00          9  desktop   \n",
       "4   9969694820036681168 2017-12-27 14:06:00          3  desktop   \n",
       "\n",
       "   first_session_date session_month first_session_month  \n",
       "0 2017-12-20 17:20:00    2017-12-01          2017-12-01  \n",
       "1 2018-02-19 16:53:00    2018-02-01          2018-02-01  \n",
       "2 2017-07-01 01:54:00    2017-07-01          2017-07-01  \n",
       "3 2018-03-09 20:05:00    2018-05-01          2018-03-01  \n",
       "4 2017-12-27 14:06:00    2017-12-01          2017-12-01  "
      ]
     },
     "execution_count": 23,
     "metadata": {},
     "output_type": "execute_result"
    }
   ],
   "source": [
    "# <Пересохраню данные в отдельный датафрейм>\n",
    "user_activity = visits[['uid','start ts','source id','device']]\n",
    "\n",
    "# <Нахожу первый заход на сайт>\n",
    "first_session_date = user_activity.groupby(['uid'])['start ts'].min()\n",
    "first_session_date.name = 'first_session_date'\n",
    "\n",
    "# <Добавляем столбец>\n",
    "user_activity = user_activity.join(first_session_date,on='uid')\n",
    "\n",
    "# <Форматируем в нужный формат>\n",
    "user_activity['session_month'] = user_activity['start ts'].astype('datetime64[M]')\n",
    "user_activity['first_session_month'] = user_activity['first_session_date'].astype('datetime64[M]')\n",
    "\n",
    "user_activity.head()"
   ]
  },
  {
   "cell_type": "markdown",
   "metadata": {},
   "source": [
    "Найдем время жизни когорты, вычтем из даты захода дату первого посещения. Переведем в месяцы."
   ]
  },
  {
   "cell_type": "code",
   "execution_count": 24,
   "metadata": {},
   "outputs": [],
   "source": [
    "# <Время жизни когорты>\n",
    "user_activity['cohort_lifetime'] = user_activity['session_month'] - user_activity['first_session_month'] \n",
    "\n",
    "# <Перевожу в месяц>\n",
    "user_activity['cohort_lifetime'] = user_activity['cohort_lifetime'] / np.timedelta64(1,'M')\n",
    "user_activity['cohort_lifetime'] = user_activity['cohort_lifetime'].round().astype('int')"
   ]
  },
  {
   "cell_type": "markdown",
   "metadata": {},
   "source": [
    "Найдем количество уникальных пользователей в каждом месяце."
   ]
  },
  {
   "cell_type": "code",
   "execution_count": 25,
   "metadata": {},
   "outputs": [],
   "source": [
    "# <Группировка данных>\n",
    "cohorts = user_activity.groupby(['first_session_month','cohort_lifetime']).agg({'uid':'nunique'}).reset_index()"
   ]
  },
  {
   "cell_type": "markdown",
   "metadata": {},
   "source": [
    "Найдем количество пользователей изначально в каждой когорте"
   ]
  },
  {
   "cell_type": "code",
   "execution_count": 26,
   "metadata": {},
   "outputs": [],
   "source": [
    "# <Расчет исходного количества пользователей в когорте>\n",
    "inital_users_count = cohorts[cohorts['cohort_lifetime'] == 0][['first_session_month','uid']]\n",
    "inital_users_count = inital_users_count.rename(columns={'uid':'cohort_users'})\n",
    "cohorts = cohorts.merge(inital_users_count,on='first_session_month')"
   ]
  },
  {
   "cell_type": "markdown",
   "metadata": {},
   "source": [
    "Найдем retention каждой когорты"
   ]
  },
  {
   "cell_type": "code",
   "execution_count": 27,
   "metadata": {},
   "outputs": [],
   "source": [
    "# <Расчет Retention Rate>\n",
    "cohorts['retention'] = cohorts['uid'] / cohorts['cohort_users']"
   ]
  },
  {
   "cell_type": "markdown",
   "metadata": {},
   "source": [
    "Построим сводную таблицу и создадим тепловую карту:"
   ]
  },
  {
   "cell_type": "code",
   "execution_count": 28,
   "metadata": {},
   "outputs": [
    {
     "data": {
      "text/html": [
       "<div>\n",
       "<style scoped>\n",
       "    .dataframe tbody tr th:only-of-type {\n",
       "        vertical-align: middle;\n",
       "    }\n",
       "\n",
       "    .dataframe tbody tr th {\n",
       "        vertical-align: top;\n",
       "    }\n",
       "\n",
       "    .dataframe thead th {\n",
       "        text-align: right;\n",
       "    }\n",
       "</style>\n",
       "<table border=\"1\" class=\"dataframe\">\n",
       "  <thead>\n",
       "    <tr style=\"text-align: right;\">\n",
       "      <th>cohort_lifetime</th>\n",
       "      <th>0</th>\n",
       "      <th>1</th>\n",
       "      <th>2</th>\n",
       "      <th>3</th>\n",
       "      <th>4</th>\n",
       "      <th>5</th>\n",
       "      <th>6</th>\n",
       "      <th>7</th>\n",
       "      <th>8</th>\n",
       "      <th>9</th>\n",
       "      <th>10</th>\n",
       "      <th>11</th>\n",
       "    </tr>\n",
       "    <tr>\n",
       "      <th>first_session_month</th>\n",
       "      <th></th>\n",
       "      <th></th>\n",
       "      <th></th>\n",
       "      <th></th>\n",
       "      <th></th>\n",
       "      <th></th>\n",
       "      <th></th>\n",
       "      <th></th>\n",
       "      <th></th>\n",
       "      <th></th>\n",
       "      <th></th>\n",
       "      <th></th>\n",
       "    </tr>\n",
       "  </thead>\n",
       "  <tbody>\n",
       "    <tr>\n",
       "      <td>2017-06-01</td>\n",
       "      <td>1.0</td>\n",
       "      <td>0.078664</td>\n",
       "      <td>0.053775</td>\n",
       "      <td>0.061392</td>\n",
       "      <td>0.068557</td>\n",
       "      <td>0.071423</td>\n",
       "      <td>0.061015</td>\n",
       "      <td>0.057772</td>\n",
       "      <td>0.052342</td>\n",
       "      <td>0.050833</td>\n",
       "      <td>0.040652</td>\n",
       "      <td>0.044951</td>\n",
       "    </tr>\n",
       "    <tr>\n",
       "      <td>2017-07-01</td>\n",
       "      <td>1.0</td>\n",
       "      <td>0.056088</td>\n",
       "      <td>0.051294</td>\n",
       "      <td>0.056164</td>\n",
       "      <td>0.058219</td>\n",
       "      <td>0.048174</td>\n",
       "      <td>0.045358</td>\n",
       "      <td>0.045738</td>\n",
       "      <td>0.038813</td>\n",
       "      <td>0.028615</td>\n",
       "      <td>0.027473</td>\n",
       "      <td>NaN</td>\n",
       "    </tr>\n",
       "    <tr>\n",
       "      <td>2017-08-01</td>\n",
       "      <td>1.0</td>\n",
       "      <td>0.076908</td>\n",
       "      <td>0.062862</td>\n",
       "      <td>0.062764</td>\n",
       "      <td>0.050093</td>\n",
       "      <td>0.044004</td>\n",
       "      <td>0.036342</td>\n",
       "      <td>0.039485</td>\n",
       "      <td>0.027895</td>\n",
       "      <td>0.026029</td>\n",
       "      <td>NaN</td>\n",
       "      <td>NaN</td>\n",
       "    </tr>\n",
       "    <tr>\n",
       "      <td>2017-09-01</td>\n",
       "      <td>1.0</td>\n",
       "      <td>0.085489</td>\n",
       "      <td>0.069205</td>\n",
       "      <td>0.050706</td>\n",
       "      <td>0.039392</td>\n",
       "      <td>0.037835</td>\n",
       "      <td>0.035860</td>\n",
       "      <td>0.024186</td>\n",
       "      <td>0.022809</td>\n",
       "      <td>NaN</td>\n",
       "      <td>NaN</td>\n",
       "      <td>NaN</td>\n",
       "    </tr>\n",
       "    <tr>\n",
       "      <td>2017-10-01</td>\n",
       "      <td>1.0</td>\n",
       "      <td>0.078608</td>\n",
       "      <td>0.052239</td>\n",
       "      <td>0.038958</td>\n",
       "      <td>0.034261</td>\n",
       "      <td>0.032221</td>\n",
       "      <td>0.021365</td>\n",
       "      <td>0.020364</td>\n",
       "      <td>NaN</td>\n",
       "      <td>NaN</td>\n",
       "      <td>NaN</td>\n",
       "      <td>NaN</td>\n",
       "    </tr>\n",
       "    <tr>\n",
       "      <td>2017-11-01</td>\n",
       "      <td>1.0</td>\n",
       "      <td>0.078281</td>\n",
       "      <td>0.044113</td>\n",
       "      <td>0.038682</td>\n",
       "      <td>0.033727</td>\n",
       "      <td>0.023415</td>\n",
       "      <td>0.021800</td>\n",
       "      <td>NaN</td>\n",
       "      <td>NaN</td>\n",
       "      <td>NaN</td>\n",
       "      <td>NaN</td>\n",
       "      <td>NaN</td>\n",
       "    </tr>\n",
       "    <tr>\n",
       "      <td>2017-12-01</td>\n",
       "      <td>1.0</td>\n",
       "      <td>0.055802</td>\n",
       "      <td>0.037993</td>\n",
       "      <td>0.031107</td>\n",
       "      <td>0.020263</td>\n",
       "      <td>0.019036</td>\n",
       "      <td>NaN</td>\n",
       "      <td>NaN</td>\n",
       "      <td>NaN</td>\n",
       "      <td>NaN</td>\n",
       "      <td>NaN</td>\n",
       "      <td>NaN</td>\n",
       "    </tr>\n",
       "    <tr>\n",
       "      <td>2018-01-01</td>\n",
       "      <td>1.0</td>\n",
       "      <td>0.059715</td>\n",
       "      <td>0.039339</td>\n",
       "      <td>0.024973</td>\n",
       "      <td>0.020244</td>\n",
       "      <td>NaN</td>\n",
       "      <td>NaN</td>\n",
       "      <td>NaN</td>\n",
       "      <td>NaN</td>\n",
       "      <td>NaN</td>\n",
       "      <td>NaN</td>\n",
       "      <td>NaN</td>\n",
       "    </tr>\n",
       "    <tr>\n",
       "      <td>2018-02-01</td>\n",
       "      <td>1.0</td>\n",
       "      <td>0.057080</td>\n",
       "      <td>0.025454</td>\n",
       "      <td>0.020093</td>\n",
       "      <td>NaN</td>\n",
       "      <td>NaN</td>\n",
       "      <td>NaN</td>\n",
       "      <td>NaN</td>\n",
       "      <td>NaN</td>\n",
       "      <td>NaN</td>\n",
       "      <td>NaN</td>\n",
       "      <td>NaN</td>\n",
       "    </tr>\n",
       "    <tr>\n",
       "      <td>2018-03-01</td>\n",
       "      <td>1.0</td>\n",
       "      <td>0.041818</td>\n",
       "      <td>0.027053</td>\n",
       "      <td>NaN</td>\n",
       "      <td>NaN</td>\n",
       "      <td>NaN</td>\n",
       "      <td>NaN</td>\n",
       "      <td>NaN</td>\n",
       "      <td>NaN</td>\n",
       "      <td>NaN</td>\n",
       "      <td>NaN</td>\n",
       "      <td>NaN</td>\n",
       "    </tr>\n",
       "    <tr>\n",
       "      <td>2018-04-01</td>\n",
       "      <td>1.0</td>\n",
       "      <td>0.048380</td>\n",
       "      <td>NaN</td>\n",
       "      <td>NaN</td>\n",
       "      <td>NaN</td>\n",
       "      <td>NaN</td>\n",
       "      <td>NaN</td>\n",
       "      <td>NaN</td>\n",
       "      <td>NaN</td>\n",
       "      <td>NaN</td>\n",
       "      <td>NaN</td>\n",
       "      <td>NaN</td>\n",
       "    </tr>\n",
       "    <tr>\n",
       "      <td>2018-05-01</td>\n",
       "      <td>1.0</td>\n",
       "      <td>NaN</td>\n",
       "      <td>NaN</td>\n",
       "      <td>NaN</td>\n",
       "      <td>NaN</td>\n",
       "      <td>NaN</td>\n",
       "      <td>NaN</td>\n",
       "      <td>NaN</td>\n",
       "      <td>NaN</td>\n",
       "      <td>NaN</td>\n",
       "      <td>NaN</td>\n",
       "      <td>NaN</td>\n",
       "    </tr>\n",
       "  </tbody>\n",
       "</table>\n",
       "</div>"
      ],
      "text/plain": [
       "cohort_lifetime       0         1         2         3         4         5   \\\n",
       "first_session_month                                                          \n",
       "2017-06-01           1.0  0.078664  0.053775  0.061392  0.068557  0.071423   \n",
       "2017-07-01           1.0  0.056088  0.051294  0.056164  0.058219  0.048174   \n",
       "2017-08-01           1.0  0.076908  0.062862  0.062764  0.050093  0.044004   \n",
       "2017-09-01           1.0  0.085489  0.069205  0.050706  0.039392  0.037835   \n",
       "2017-10-01           1.0  0.078608  0.052239  0.038958  0.034261  0.032221   \n",
       "2017-11-01           1.0  0.078281  0.044113  0.038682  0.033727  0.023415   \n",
       "2017-12-01           1.0  0.055802  0.037993  0.031107  0.020263  0.019036   \n",
       "2018-01-01           1.0  0.059715  0.039339  0.024973  0.020244       NaN   \n",
       "2018-02-01           1.0  0.057080  0.025454  0.020093       NaN       NaN   \n",
       "2018-03-01           1.0  0.041818  0.027053       NaN       NaN       NaN   \n",
       "2018-04-01           1.0  0.048380       NaN       NaN       NaN       NaN   \n",
       "2018-05-01           1.0       NaN       NaN       NaN       NaN       NaN   \n",
       "\n",
       "cohort_lifetime            6         7         8         9         10  \\\n",
       "first_session_month                                                     \n",
       "2017-06-01           0.061015  0.057772  0.052342  0.050833  0.040652   \n",
       "2017-07-01           0.045358  0.045738  0.038813  0.028615  0.027473   \n",
       "2017-08-01           0.036342  0.039485  0.027895  0.026029       NaN   \n",
       "2017-09-01           0.035860  0.024186  0.022809       NaN       NaN   \n",
       "2017-10-01           0.021365  0.020364       NaN       NaN       NaN   \n",
       "2017-11-01           0.021800       NaN       NaN       NaN       NaN   \n",
       "2017-12-01                NaN       NaN       NaN       NaN       NaN   \n",
       "2018-01-01                NaN       NaN       NaN       NaN       NaN   \n",
       "2018-02-01                NaN       NaN       NaN       NaN       NaN   \n",
       "2018-03-01                NaN       NaN       NaN       NaN       NaN   \n",
       "2018-04-01                NaN       NaN       NaN       NaN       NaN   \n",
       "2018-05-01                NaN       NaN       NaN       NaN       NaN   \n",
       "\n",
       "cohort_lifetime            11  \n",
       "first_session_month            \n",
       "2017-06-01           0.044951  \n",
       "2017-07-01                NaN  \n",
       "2017-08-01                NaN  \n",
       "2017-09-01                NaN  \n",
       "2017-10-01                NaN  \n",
       "2017-11-01                NaN  \n",
       "2017-12-01                NaN  \n",
       "2018-01-01                NaN  \n",
       "2018-02-01                NaN  \n",
       "2018-03-01                NaN  \n",
       "2018-04-01                NaN  \n",
       "2018-05-01                NaN  "
      ]
     },
     "execution_count": 28,
     "metadata": {},
     "output_type": "execute_result"
    }
   ],
   "source": [
    "# <Создание сводной таблицы>\n",
    "retention_pivot = cohorts.pivot_table(index='first_session_month',columns='cohort_lifetime',values='retention',aggfunc='sum')\n",
    "retention_pivot"
   ]
  },
  {
   "cell_type": "code",
   "execution_count": 29,
   "metadata": {},
   "outputs": [
    {
     "data": {
      "text/plain": [
       "[Text(0, 0.5, '2017-06-01'),\n",
       " Text(0, 1.5, '2017-07-01'),\n",
       " Text(0, 2.5, '2017-08-01'),\n",
       " Text(0, 3.5, '2017-09-01'),\n",
       " Text(0, 4.5, '2017-10-01'),\n",
       " Text(0, 5.5, '2017-11-01'),\n",
       " Text(0, 6.5, '2017-12-01'),\n",
       " Text(0, 7.5, '2018-01-01'),\n",
       " Text(0, 8.5, '2018-02-01'),\n",
       " Text(0, 9.5, '2018-03-01'),\n",
       " Text(0, 10.5, '2018-04-01'),\n",
       " Text(0, 11.5, '2018-05-01')]"
      ]
     },
     "execution_count": 29,
     "metadata": {},
     "output_type": "execute_result"
    },
    {
     "data": {
      "image/png": "[encoded data removed]",
      "text/plain": [
       "<Figure size 1224x432 with 2 Axes>"
      ]
     },
     "metadata": {},
     "output_type": "display_data"
    }
   ],
   "source": [
    "# <Создание тепловой карты>\n",
    "sns.set(style='white')\n",
    "plt.figure(figsize=(17, 6))\n",
    "plt.title('Cohorts: User Retention')\n",
    "ax = sns.heatmap(retention_pivot, annot=True, fmt='.1%', linewidths=1, cmap=\"YlGnBu\", vmax=0.15);\n",
    "ax.set_yticklabels(retention_pivot.index.date)"
   ]
  },
  {
   "cell_type": "markdown",
   "metadata": {},
   "source": [
    "#### Вывод"
   ]
  },
  {
   "cell_type": "markdown",
   "metadata": {},
   "source": [
    "Retention Rate в первый месяц убывает по когортам с течением времени. Если для когорты пользователей, пришедших в июне 2017 Retention Rate в первый месяц составляет 7,9%, то для пользователей, пришедших в апреле 2018 — уже 4,8%. Так, за 11 месяцев коэффициент удержания упал на 3,1%. Это говорит, что с каждой новой когортой поведение покупателей меняется. Возможно, были выбраны неэффективные источники трафика или ухудшилось качество работы службы поддержки."
   ]
  },
  {
   "cell_type": "markdown",
   "metadata": {},
   "source": [
    "### 2.2 Продажи"
   ]
  },
  {
   "cell_type": "markdown",
   "metadata": {},
   "source": [
    "#### Когда люди начинают покупать?"
   ]
  },
  {
   "cell_type": "markdown",
   "metadata": {},
   "source": [
    "Добавим в таблицу orders столбец со временем первой сесии. "
   ]
  },
  {
   "cell_type": "code",
   "execution_count": 30,
   "metadata": {},
   "outputs": [],
   "source": [
    "# <Добавим в таблицу orders столбец first_session_date>\n",
    "orders = orders.join(first_session_date,on='uid')"
   ]
  },
  {
   "cell_type": "markdown",
   "metadata": {},
   "source": [
    "Добавим столбец с разницей между временем покупки и началом первой сессии."
   ]
  },
  {
   "cell_type": "code",
   "execution_count": 31,
   "metadata": {},
   "outputs": [],
   "source": [
    "# <Добавим столбец>\n",
    "orders['orders_time'] = orders['buy ts'] - orders['first_session_date'] \n",
    "orders['orders_time'] = orders['orders_time'] / np.timedelta64(1,'h')"
   ]
  },
  {
   "cell_type": "code",
   "execution_count": 32,
   "metadata": {},
   "outputs": [
    {
     "data": {
      "text/plain": [
       "<matplotlib.axes._subplots.AxesSubplot at 0x7fe524641450>"
      ]
     },
     "execution_count": 32,
     "metadata": {},
     "output_type": "execute_result"
    },
    {
     "data": {
      "image/png": "[encoded data removed]",
      "text/plain": [
       "<Figure size 432x288 with 1 Axes>"
      ]
     },
     "metadata": {},
     "output_type": "display_data"
    }
   ],
   "source": [
    "# <Построим гистограмму>\n",
    "orders['orders_time'].hist(bins=30)"
   ]
  },
  {
   "cell_type": "markdown",
   "metadata": {},
   "source": [
    "Посчитаем медиану по этому столбцу, т.к. есть выбросы по показателю."
   ]
  },
  {
   "cell_type": "code",
   "execution_count": 33,
   "metadata": {},
   "outputs": [
    {
     "data": {
      "text/plain": [
       "3.4"
      ]
     },
     "execution_count": 33,
     "metadata": {},
     "output_type": "execute_result"
    }
   ],
   "source": [
    "# <Найдем медиану с момента начала сессии до заказа>\n",
    "orders['orders_time'].median().round(1)"
   ]
  },
  {
   "cell_type": "markdown",
   "metadata": {},
   "source": [
    "#### Вывод"
   ]
  },
  {
   "cell_type": "markdown",
   "metadata": {},
   "source": [
    "Люди покупают примерно через 3,4 ч с момента первого захода на сайт. "
   ]
  },
  {
   "cell_type": "markdown",
   "metadata": {},
   "source": [
    "#### Сколько раз покупают за период? "
   ]
  },
  {
   "cell_type": "markdown",
   "metadata": {},
   "source": [
    "Определим сколько раз пользователи покупают за период, построив график."
   ]
  },
  {
   "cell_type": "code",
   "execution_count": 34,
   "metadata": {},
   "outputs": [
    {
     "data": {
      "text/plain": [
       "Text(0.5, 1.0, 'Количество покупок за период')"
      ]
     },
     "execution_count": 34,
     "metadata": {},
     "output_type": "execute_result"
    },
    {
     "data": {
      "image/png": "[encoded data removed]",
      "text/plain": [
       "<Figure size 864x288 with 1 Axes>"
      ]
     },
     "metadata": {},
     "output_type": "display_data"
    }
   ],
   "source": [
    "# <Добавим столбец с номером месяца>\n",
    "orders['buy_month'] = orders['buy ts'].astype('datetime64[M]')\n",
    "\n",
    "# <Построим график>\n",
    "orders.pivot_table(index='buy_month',values='buy ts',aggfunc='count').plot(grid=True, figsize=(12, 4))\n",
    "plt.xlabel('Месяц покупки')\n",
    "plt.ylabel('Количество покупок')\n",
    "plt.title('Количество покупок за период')"
   ]
  },
  {
   "cell_type": "markdown",
   "metadata": {},
   "source": [
    "#### Вывод"
   ]
  },
  {
   "cell_type": "markdown",
   "metadata": {},
   "source": [
    "На графике видно, что больше всего покупок было совершенно в декабре 2017 (более 100 тыс. раз и в феврале 2018 (около 90 тыс. раз). Меньше всего покупок в летние месяцы (30-40 тыс. раз)"
   ]
  },
  {
   "cell_type": "markdown",
   "metadata": {},
   "source": [
    "#### Какой средний чек?"
   ]
  },
  {
   "cell_type": "markdown",
   "metadata": {},
   "source": [
    "Сперва сгруппируем данные по когорте first_order_month и месяцу совершения заказа order_month"
   ]
  },
  {
   "cell_type": "code",
   "execution_count": 35,
   "metadata": {},
   "outputs": [
    {
     "data": {
      "text/html": [
       "<div>\n",
       "<style scoped>\n",
       "    .dataframe tbody tr th:only-of-type {\n",
       "        vertical-align: middle;\n",
       "    }\n",
       "\n",
       "    .dataframe tbody tr th {\n",
       "        vertical-align: top;\n",
       "    }\n",
       "\n",
       "    .dataframe thead th {\n",
       "        text-align: right;\n",
       "    }\n",
       "</style>\n",
       "<table border=\"1\" class=\"dataframe\">\n",
       "  <thead>\n",
       "    <tr style=\"text-align: right;\">\n",
       "      <th></th>\n",
       "      <th></th>\n",
       "      <th>revenue</th>\n",
       "      <th>uid</th>\n",
       "    </tr>\n",
       "    <tr>\n",
       "      <th>first_order_month</th>\n",
       "      <th>order_month</th>\n",
       "      <th></th>\n",
       "      <th></th>\n",
       "    </tr>\n",
       "  </thead>\n",
       "  <tbody>\n",
       "    <tr>\n",
       "      <td rowspan=\"5\" valign=\"top\">2017-06-01</td>\n",
       "      <td>2017-06-01</td>\n",
       "      <td>9557.49</td>\n",
       "      <td>2354</td>\n",
       "    </tr>\n",
       "    <tr>\n",
       "      <td>2017-07-01</td>\n",
       "      <td>981.82</td>\n",
       "      <td>177</td>\n",
       "    </tr>\n",
       "    <tr>\n",
       "      <td>2017-08-01</td>\n",
       "      <td>885.34</td>\n",
       "      <td>174</td>\n",
       "    </tr>\n",
       "    <tr>\n",
       "      <td>2017-09-01</td>\n",
       "      <td>1931.30</td>\n",
       "      <td>226</td>\n",
       "    </tr>\n",
       "    <tr>\n",
       "      <td>2017-10-01</td>\n",
       "      <td>2068.58</td>\n",
       "      <td>292</td>\n",
       "    </tr>\n",
       "  </tbody>\n",
       "</table>\n",
       "</div>"
      ],
      "text/plain": [
       "                               revenue   uid\n",
       "first_order_month order_month               \n",
       "2017-06-01        2017-06-01   9557.49  2354\n",
       "                  2017-07-01    981.82   177\n",
       "                  2017-08-01    885.34   174\n",
       "                  2017-09-01   1931.30   226\n",
       "                  2017-10-01   2068.58   292"
      ]
     },
     "execution_count": 35,
     "metadata": {},
     "output_type": "execute_result"
    }
   ],
   "source": [
    "# <Группировка данных по когорте first_order_month и месяцу совершения заказа order_month>\n",
    "first_order_date = orders.groupby('uid')['buy ts'].min()\n",
    "first_order_date.name = 'first_order_date'\n",
    "orders = orders.join(first_order_date,on='uid')\n",
    "orders['first_order_month'] = orders['first_order_date'].astype('datetime64[M]')\n",
    "orders['order_month'] = orders['buy ts'].astype('datetime64[M]')\n",
    "orders_grouped_by_cohorts = orders.groupby(['first_order_month','order_month']).agg({'revenue':'sum','uid':'count'})\n",
    "orders_grouped_by_cohorts.head()"
   ]
  },
  {
   "cell_type": "markdown",
   "metadata": {},
   "source": [
    "Найдём средний чек покупателя."
   ]
  },
  {
   "cell_type": "code",
   "execution_count": 36,
   "metadata": {},
   "outputs": [
    {
     "data": {
      "text/plain": [
       "7.65"
      ]
     },
     "execution_count": 36,
     "metadata": {},
     "output_type": "execute_result"
    }
   ],
   "source": [
    "# <Расчет среднего чека>\n",
    "orders_grouped_by_cohorts['revenue_per_user'] = orders_grouped_by_cohorts['revenue'] / orders_grouped_by_cohorts['uid']\n",
    "orders_grouped_by_cohorts['revenue_per_user'].mean().round(2)"
   ]
  },
  {
   "cell_type": "code",
   "execution_count": 37,
   "metadata": {},
   "outputs": [
    {
     "data": {
      "text/html": [
       "<div>\n",
       "<style scoped>\n",
       "    .dataframe tbody tr th:only-of-type {\n",
       "        vertical-align: middle;\n",
       "    }\n",
       "\n",
       "    .dataframe tbody tr th {\n",
       "        vertical-align: top;\n",
       "    }\n",
       "\n",
       "    .dataframe thead th {\n",
       "        text-align: right;\n",
       "    }\n",
       "</style>\n",
       "<table border=\"1\" class=\"dataframe\">\n",
       "  <thead>\n",
       "    <tr style=\"text-align: right;\">\n",
       "      <th></th>\n",
       "      <th></th>\n",
       "      <th>revenue</th>\n",
       "      <th>uid</th>\n",
       "      <th>revenue_per_user</th>\n",
       "    </tr>\n",
       "    <tr>\n",
       "      <th>first_order_month</th>\n",
       "      <th>order_month</th>\n",
       "      <th></th>\n",
       "      <th></th>\n",
       "      <th></th>\n",
       "    </tr>\n",
       "  </thead>\n",
       "  <tbody>\n",
       "    <tr>\n",
       "      <td rowspan=\"5\" valign=\"top\">2017-06-01</td>\n",
       "      <td>2017-06-01</td>\n",
       "      <td>9557.49</td>\n",
       "      <td>2354</td>\n",
       "      <td>4.060106</td>\n",
       "    </tr>\n",
       "    <tr>\n",
       "      <td>2017-07-01</td>\n",
       "      <td>981.82</td>\n",
       "      <td>177</td>\n",
       "      <td>5.547006</td>\n",
       "    </tr>\n",
       "    <tr>\n",
       "      <td>2017-08-01</td>\n",
       "      <td>885.34</td>\n",
       "      <td>174</td>\n",
       "      <td>5.088161</td>\n",
       "    </tr>\n",
       "    <tr>\n",
       "      <td>2017-09-01</td>\n",
       "      <td>1931.30</td>\n",
       "      <td>226</td>\n",
       "      <td>8.545575</td>\n",
       "    </tr>\n",
       "    <tr>\n",
       "      <td>2017-10-01</td>\n",
       "      <td>2068.58</td>\n",
       "      <td>292</td>\n",
       "      <td>7.084178</td>\n",
       "    </tr>\n",
       "    <tr>\n",
       "      <td>...</td>\n",
       "      <td>...</td>\n",
       "      <td>...</td>\n",
       "      <td>...</td>\n",
       "      <td>...</td>\n",
       "    </tr>\n",
       "    <tr>\n",
       "      <td>2018-03-01</td>\n",
       "      <td>2018-05-01</td>\n",
       "      <td>1114.87</td>\n",
       "      <td>176</td>\n",
       "      <td>6.334489</td>\n",
       "    </tr>\n",
       "    <tr>\n",
       "      <td rowspan=\"2\" valign=\"top\">2018-04-01</td>\n",
       "      <td>2018-04-01</td>\n",
       "      <td>10600.69</td>\n",
       "      <td>2495</td>\n",
       "      <td>4.248774</td>\n",
       "    </tr>\n",
       "    <tr>\n",
       "      <td>2018-05-01</td>\n",
       "      <td>1209.92</td>\n",
       "      <td>195</td>\n",
       "      <td>6.204718</td>\n",
       "    </tr>\n",
       "    <tr>\n",
       "      <td>2018-05-01</td>\n",
       "      <td>2018-05-01</td>\n",
       "      <td>13925.76</td>\n",
       "      <td>3249</td>\n",
       "      <td>4.286168</td>\n",
       "    </tr>\n",
       "    <tr>\n",
       "      <td>2018-06-01</td>\n",
       "      <td>2018-06-01</td>\n",
       "      <td>3.42</td>\n",
       "      <td>1</td>\n",
       "      <td>3.420000</td>\n",
       "    </tr>\n",
       "  </tbody>\n",
       "</table>\n",
       "<p>79 rows × 3 columns</p>\n",
       "</div>"
      ],
      "text/plain": [
       "                                revenue   uid  revenue_per_user\n",
       "first_order_month order_month                                  \n",
       "2017-06-01        2017-06-01    9557.49  2354          4.060106\n",
       "                  2017-07-01     981.82   177          5.547006\n",
       "                  2017-08-01     885.34   174          5.088161\n",
       "                  2017-09-01    1931.30   226          8.545575\n",
       "                  2017-10-01    2068.58   292          7.084178\n",
       "...                                 ...   ...               ...\n",
       "2018-03-01        2018-05-01    1114.87   176          6.334489\n",
       "2018-04-01        2018-04-01   10600.69  2495          4.248774\n",
       "                  2018-05-01    1209.92   195          6.204718\n",
       "2018-05-01        2018-05-01   13925.76  3249          4.286168\n",
       "2018-06-01        2018-06-01       3.42     1          3.420000\n",
       "\n",
       "[79 rows x 3 columns]"
      ]
     },
     "execution_count": 37,
     "metadata": {},
     "output_type": "execute_result"
    }
   ],
   "source": [
    "orders_grouped_by_cohorts"
   ]
  },
  {
   "cell_type": "markdown",
   "metadata": {},
   "source": [
    "Построим сводную таблицу изменения среднего чека в когортах по месяцу совершения покупки и оценим, как изменяется средний чек с течением времени"
   ]
  },
  {
   "cell_type": "code",
   "execution_count": 38,
   "metadata": {},
   "outputs": [
    {
     "data": {
      "image/png": "[encoded data removed]",
      "text/plain": [
       "<Figure size 1224x432 with 2 Axes>"
      ]
     },
     "metadata": {},
     "output_type": "display_data"
    }
   ],
   "source": [
    "# <Постройка сводной таблицы>\n",
    "orders_pivot = orders_grouped_by_cohorts.pivot_table(index='first_order_month',columns='order_month',values='revenue_per_user',aggfunc='mean')\n",
    "\n",
    "# <Создание тепловой карты>\n",
    "sns.set(style='white')\n",
    "plt.figure(figsize=(17, 6))\n",
    "plt.title('Средний чек')\n",
    "ax = sns.heatmap(orders_pivot, annot=True, fmt='.2f', linewidths=1, vmax=15);\n",
    "ax.set_yticklabels(retention_pivot.index.date)\n",
    "ax.set_xticklabels(retention_pivot.index.date)\n",
    "plt.show()"
   ]
  },
  {
   "cell_type": "markdown",
   "metadata": {},
   "source": [
    "#### Вывод"
   ]
  },
  {
   "cell_type": "markdown",
   "metadata": {},
   "source": [
    "По таблице видно, что наибольший средний чек у пользователей сентябрьской, декабрьской когорты и июньской когорты. Средний чек по всем пользователям равен 7,65."
   ]
  },
  {
   "cell_type": "markdown",
   "metadata": {},
   "source": [
    "#### Сколько денег приносят? (LTV)"
   ]
  },
  {
   "cell_type": "markdown",
   "metadata": {},
   "source": [
    "Посчитаем количество новых покупателей (n_buyers) за каждый месяц:"
   ]
  },
  {
   "cell_type": "code",
   "execution_count": 39,
   "metadata": {},
   "outputs": [
    {
     "data": {
      "text/html": [
       "<div>\n",
       "<style scoped>\n",
       "    .dataframe tbody tr th:only-of-type {\n",
       "        vertical-align: middle;\n",
       "    }\n",
       "\n",
       "    .dataframe tbody tr th {\n",
       "        vertical-align: top;\n",
       "    }\n",
       "\n",
       "    .dataframe thead th {\n",
       "        text-align: right;\n",
       "    }\n",
       "</style>\n",
       "<table border=\"1\" class=\"dataframe\">\n",
       "  <thead>\n",
       "    <tr style=\"text-align: right;\">\n",
       "      <th></th>\n",
       "      <th>first_order_month</th>\n",
       "      <th>buyers</th>\n",
       "    </tr>\n",
       "  </thead>\n",
       "  <tbody>\n",
       "    <tr>\n",
       "      <td>0</td>\n",
       "      <td>2017-06-01</td>\n",
       "      <td>2023</td>\n",
       "    </tr>\n",
       "    <tr>\n",
       "      <td>1</td>\n",
       "      <td>2017-07-01</td>\n",
       "      <td>1923</td>\n",
       "    </tr>\n",
       "    <tr>\n",
       "      <td>2</td>\n",
       "      <td>2017-08-01</td>\n",
       "      <td>1370</td>\n",
       "    </tr>\n",
       "    <tr>\n",
       "      <td>3</td>\n",
       "      <td>2017-09-01</td>\n",
       "      <td>2581</td>\n",
       "    </tr>\n",
       "    <tr>\n",
       "      <td>4</td>\n",
       "      <td>2017-10-01</td>\n",
       "      <td>4340</td>\n",
       "    </tr>\n",
       "    <tr>\n",
       "      <td>5</td>\n",
       "      <td>2017-11-01</td>\n",
       "      <td>4081</td>\n",
       "    </tr>\n",
       "    <tr>\n",
       "      <td>6</td>\n",
       "      <td>2017-12-01</td>\n",
       "      <td>4383</td>\n",
       "    </tr>\n",
       "    <tr>\n",
       "      <td>7</td>\n",
       "      <td>2018-01-01</td>\n",
       "      <td>3373</td>\n",
       "    </tr>\n",
       "    <tr>\n",
       "      <td>8</td>\n",
       "      <td>2018-02-01</td>\n",
       "      <td>3651</td>\n",
       "    </tr>\n",
       "    <tr>\n",
       "      <td>9</td>\n",
       "      <td>2018-03-01</td>\n",
       "      <td>3533</td>\n",
       "    </tr>\n",
       "    <tr>\n",
       "      <td>10</td>\n",
       "      <td>2018-04-01</td>\n",
       "      <td>2276</td>\n",
       "    </tr>\n",
       "    <tr>\n",
       "      <td>11</td>\n",
       "      <td>2018-05-01</td>\n",
       "      <td>2988</td>\n",
       "    </tr>\n",
       "    <tr>\n",
       "      <td>12</td>\n",
       "      <td>2018-06-01</td>\n",
       "      <td>1</td>\n",
       "    </tr>\n",
       "  </tbody>\n",
       "</table>\n",
       "</div>"
      ],
      "text/plain": [
       "   first_order_month  buyers\n",
       "0         2017-06-01    2023\n",
       "1         2017-07-01    1923\n",
       "2         2017-08-01    1370\n",
       "3         2017-09-01    2581\n",
       "4         2017-10-01    4340\n",
       "5         2017-11-01    4081\n",
       "6         2017-12-01    4383\n",
       "7         2018-01-01    3373\n",
       "8         2018-02-01    3651\n",
       "9         2018-03-01    3533\n",
       "10        2018-04-01    2276\n",
       "11        2018-05-01    2988\n",
       "12        2018-06-01       1"
      ]
     },
     "execution_count": 39,
     "metadata": {},
     "output_type": "execute_result"
    }
   ],
   "source": [
    "# <Считаем кол-во новых покупателей>\n",
    "cohort_sizes = orders.groupby('first_order_month').agg({'uid': 'nunique'}).reset_index()\n",
    "cohort_sizes.columns = ['first_order_month', 'buyers']\n",
    "cohort_sizes"
   ]
  },
  {
   "cell_type": "markdown",
   "metadata": {},
   "source": [
    "Сгруппируем таблицу заказов по месяцу первой покупки и месяцу каждого заказа и сложим выручку"
   ]
  },
  {
   "cell_type": "code",
   "execution_count": 40,
   "metadata": {},
   "outputs": [
    {
     "data": {
      "text/html": [
       "<div>\n",
       "<style scoped>\n",
       "    .dataframe tbody tr th:only-of-type {\n",
       "        vertical-align: middle;\n",
       "    }\n",
       "\n",
       "    .dataframe tbody tr th {\n",
       "        vertical-align: top;\n",
       "    }\n",
       "\n",
       "    .dataframe thead th {\n",
       "        text-align: right;\n",
       "    }\n",
       "</style>\n",
       "<table border=\"1\" class=\"dataframe\">\n",
       "  <thead>\n",
       "    <tr style=\"text-align: right;\">\n",
       "      <th></th>\n",
       "      <th>first_order_month</th>\n",
       "      <th>order_month</th>\n",
       "      <th>revenue</th>\n",
       "    </tr>\n",
       "  </thead>\n",
       "  <tbody>\n",
       "    <tr>\n",
       "      <td>0</td>\n",
       "      <td>2017-06-01</td>\n",
       "      <td>2017-06-01</td>\n",
       "      <td>9557.49</td>\n",
       "    </tr>\n",
       "    <tr>\n",
       "      <td>1</td>\n",
       "      <td>2017-06-01</td>\n",
       "      <td>2017-07-01</td>\n",
       "      <td>981.82</td>\n",
       "    </tr>\n",
       "    <tr>\n",
       "      <td>2</td>\n",
       "      <td>2017-06-01</td>\n",
       "      <td>2017-08-01</td>\n",
       "      <td>885.34</td>\n",
       "    </tr>\n",
       "    <tr>\n",
       "      <td>3</td>\n",
       "      <td>2017-06-01</td>\n",
       "      <td>2017-09-01</td>\n",
       "      <td>1931.30</td>\n",
       "    </tr>\n",
       "    <tr>\n",
       "      <td>4</td>\n",
       "      <td>2017-06-01</td>\n",
       "      <td>2017-10-01</td>\n",
       "      <td>2068.58</td>\n",
       "    </tr>\n",
       "  </tbody>\n",
       "</table>\n",
       "</div>"
      ],
      "text/plain": [
       "  first_order_month order_month  revenue\n",
       "0        2017-06-01  2017-06-01  9557.49\n",
       "1        2017-06-01  2017-07-01   981.82\n",
       "2        2017-06-01  2017-08-01   885.34\n",
       "3        2017-06-01  2017-09-01  1931.30\n",
       "4        2017-06-01  2017-10-01  2068.58"
      ]
     },
     "execution_count": 40,
     "metadata": {},
     "output_type": "execute_result"
    }
   ],
   "source": [
    "# <Группируем таблицу>\n",
    "cohorts = orders.groupby(['first_order_month','order_month']).agg({'revenue': 'sum'}).reset_index()\n",
    "cohorts.head()"
   ]
  },
  {
   "cell_type": "markdown",
   "metadata": {},
   "source": [
    "Добавим в таблицу cohorts данные о том, сколько людей первый раз совершили покупку в каждый месяц:"
   ]
  },
  {
   "cell_type": "code",
   "execution_count": 41,
   "metadata": {},
   "outputs": [
    {
     "data": {
      "text/html": [
       "<div>\n",
       "<style scoped>\n",
       "    .dataframe tbody tr th:only-of-type {\n",
       "        vertical-align: middle;\n",
       "    }\n",
       "\n",
       "    .dataframe tbody tr th {\n",
       "        vertical-align: top;\n",
       "    }\n",
       "\n",
       "    .dataframe thead th {\n",
       "        text-align: right;\n",
       "    }\n",
       "</style>\n",
       "<table border=\"1\" class=\"dataframe\">\n",
       "  <thead>\n",
       "    <tr style=\"text-align: right;\">\n",
       "      <th></th>\n",
       "      <th>first_order_month</th>\n",
       "      <th>buyers</th>\n",
       "      <th>order_month</th>\n",
       "      <th>revenue</th>\n",
       "    </tr>\n",
       "  </thead>\n",
       "  <tbody>\n",
       "    <tr>\n",
       "      <td>0</td>\n",
       "      <td>2017-06-01</td>\n",
       "      <td>2023</td>\n",
       "      <td>2017-06-01</td>\n",
       "      <td>9557.49</td>\n",
       "    </tr>\n",
       "    <tr>\n",
       "      <td>1</td>\n",
       "      <td>2017-06-01</td>\n",
       "      <td>2023</td>\n",
       "      <td>2017-07-01</td>\n",
       "      <td>981.82</td>\n",
       "    </tr>\n",
       "    <tr>\n",
       "      <td>2</td>\n",
       "      <td>2017-06-01</td>\n",
       "      <td>2023</td>\n",
       "      <td>2017-08-01</td>\n",
       "      <td>885.34</td>\n",
       "    </tr>\n",
       "    <tr>\n",
       "      <td>3</td>\n",
       "      <td>2017-06-01</td>\n",
       "      <td>2023</td>\n",
       "      <td>2017-09-01</td>\n",
       "      <td>1931.30</td>\n",
       "    </tr>\n",
       "    <tr>\n",
       "      <td>4</td>\n",
       "      <td>2017-06-01</td>\n",
       "      <td>2023</td>\n",
       "      <td>2017-10-01</td>\n",
       "      <td>2068.58</td>\n",
       "    </tr>\n",
       "  </tbody>\n",
       "</table>\n",
       "</div>"
      ],
      "text/plain": [
       "  first_order_month  buyers order_month  revenue\n",
       "0        2017-06-01    2023  2017-06-01  9557.49\n",
       "1        2017-06-01    2023  2017-07-01   981.82\n",
       "2        2017-06-01    2023  2017-08-01   885.34\n",
       "3        2017-06-01    2023  2017-09-01  1931.30\n",
       "4        2017-06-01    2023  2017-10-01  2068.58"
      ]
     },
     "execution_count": 41,
     "metadata": {},
     "output_type": "execute_result"
    }
   ],
   "source": [
    "# <Объединение таблиц>\n",
    "report = pd.merge(cohort_sizes, cohorts, on='first_order_month')\n",
    "report.head()"
   ]
  },
  {
   "cell_type": "markdown",
   "metadata": {},
   "source": [
    "Добавим в таблицу report валовую прибыль (умножив выручку на маржинальность) и возраст когорты.\n",
    "Примем, что средняя маржинальность магазина составляет 1000%"
   ]
  },
  {
   "cell_type": "code",
   "execution_count": 42,
   "metadata": {},
   "outputs": [
    {
     "data": {
      "text/html": [
       "<div>\n",
       "<style scoped>\n",
       "    .dataframe tbody tr th:only-of-type {\n",
       "        vertical-align: middle;\n",
       "    }\n",
       "\n",
       "    .dataframe tbody tr th {\n",
       "        vertical-align: top;\n",
       "    }\n",
       "\n",
       "    .dataframe thead th {\n",
       "        text-align: right;\n",
       "    }\n",
       "</style>\n",
       "<table border=\"1\" class=\"dataframe\">\n",
       "  <thead>\n",
       "    <tr style=\"text-align: right;\">\n",
       "      <th></th>\n",
       "      <th>first_order_month</th>\n",
       "      <th>buyers</th>\n",
       "      <th>order_month</th>\n",
       "      <th>revenue</th>\n",
       "      <th>gp</th>\n",
       "      <th>age</th>\n",
       "    </tr>\n",
       "  </thead>\n",
       "  <tbody>\n",
       "    <tr>\n",
       "      <td>0</td>\n",
       "      <td>2017-06-01</td>\n",
       "      <td>2023</td>\n",
       "      <td>2017-06-01</td>\n",
       "      <td>9557.49</td>\n",
       "      <td>9557.49</td>\n",
       "      <td>0</td>\n",
       "    </tr>\n",
       "    <tr>\n",
       "      <td>1</td>\n",
       "      <td>2017-06-01</td>\n",
       "      <td>2023</td>\n",
       "      <td>2017-07-01</td>\n",
       "      <td>981.82</td>\n",
       "      <td>981.82</td>\n",
       "      <td>1</td>\n",
       "    </tr>\n",
       "    <tr>\n",
       "      <td>2</td>\n",
       "      <td>2017-06-01</td>\n",
       "      <td>2023</td>\n",
       "      <td>2017-08-01</td>\n",
       "      <td>885.34</td>\n",
       "      <td>885.34</td>\n",
       "      <td>2</td>\n",
       "    </tr>\n",
       "    <tr>\n",
       "      <td>3</td>\n",
       "      <td>2017-06-01</td>\n",
       "      <td>2023</td>\n",
       "      <td>2017-09-01</td>\n",
       "      <td>1931.30</td>\n",
       "      <td>1931.30</td>\n",
       "      <td>3</td>\n",
       "    </tr>\n",
       "    <tr>\n",
       "      <td>4</td>\n",
       "      <td>2017-06-01</td>\n",
       "      <td>2023</td>\n",
       "      <td>2017-10-01</td>\n",
       "      <td>2068.58</td>\n",
       "      <td>2068.58</td>\n",
       "      <td>4</td>\n",
       "    </tr>\n",
       "  </tbody>\n",
       "</table>\n",
       "</div>"
      ],
      "text/plain": [
       "  first_order_month  buyers order_month  revenue       gp  age\n",
       "0        2017-06-01    2023  2017-06-01  9557.49  9557.49    0\n",
       "1        2017-06-01    2023  2017-07-01   981.82   981.82    1\n",
       "2        2017-06-01    2023  2017-08-01   885.34   885.34    2\n",
       "3        2017-06-01    2023  2017-09-01  1931.30  1931.30    3\n",
       "4        2017-06-01    2023  2017-10-01  2068.58  2068.58    4"
      ]
     },
     "execution_count": 42,
     "metadata": {},
     "output_type": "execute_result"
    }
   ],
   "source": [
    "# <Расчет валовой прибыли и возраста когорты>\n",
    "margin_rate = 1\n",
    "\n",
    "report['gp'] = report['revenue'] * margin_rate\n",
    "report['age'] = (report['order_month'] - report['first_order_month']) / np.timedelta64(1, 'M')\n",
    "report['age'] = report['age'].round().astype('int')\n",
    "report.head()"
   ]
  },
  {
   "cell_type": "markdown",
   "metadata": {},
   "source": [
    "Найдём LTV, разделив валовую прибыль когорт за каждый месяц на общее число пользователей в каждой когорте. Для наглядности визуализируем когорты в виде сводной таблицы:"
   ]
  },
  {
   "cell_type": "code",
   "execution_count": 43,
   "metadata": {},
   "outputs": [],
   "source": [
    "# <Нахождение LTV>\n",
    "report['ltv'] = report['gp'] / report['buyers']\n",
    "    \n",
    "output = report.pivot_table(\n",
    "        index='first_order_month', \n",
    "        columns='age', \n",
    "        values='ltv', \n",
    "        aggfunc='mean').round(2)"
   ]
  },
  {
   "cell_type": "code",
   "execution_count": 44,
   "metadata": {},
   "outputs": [
    {
     "data": {
      "text/plain": [
       "[Text(0, 0.5, '2017-06-01'),\n",
       " Text(0, 1.5, '2017-07-01'),\n",
       " Text(0, 2.5, '2017-08-01'),\n",
       " Text(0, 3.5, '2017-09-01'),\n",
       " Text(0, 4.5, '2017-10-01'),\n",
       " Text(0, 5.5, '2017-11-01'),\n",
       " Text(0, 6.5, '2017-12-01'),\n",
       " Text(0, 7.5, '2018-01-01'),\n",
       " Text(0, 8.5, '2018-02-01'),\n",
       " Text(0, 9.5, '2018-03-01'),\n",
       " Text(0, 10.5, '2018-04-01'),\n",
       " Text(0, 11.5, '2018-05-01')]"
      ]
     },
     "execution_count": 44,
     "metadata": {},
     "output_type": "execute_result"
    },
    {
     "data": {
      "image/png": "[encoded data removed]",
      "text/plain": [
       "<Figure size 1224x432 with 2 Axes>"
      ]
     },
     "metadata": {},
     "output_type": "display_data"
    }
   ],
   "source": [
    "# <Создание тепловой карты>\n",
    "sns.set(style='white')\n",
    "plt.figure(figsize=(17, 6))\n",
    "plt.title('LTV')\n",
    "ax = sns.heatmap(output.cumsum(axis=1), annot=True, fmt='.2f', linewidths=1);\n",
    "ax.set_yticklabels(retention_pivot.index.date)"
   ]
  },
  {
   "cell_type": "markdown",
   "metadata": {},
   "source": [
    "#### Вывод"
   ]
  },
  {
   "cell_type": "markdown",
   "metadata": {},
   "source": [
    "В среднем каждый покупатель из первой когорты принес по 11,88 рублей выручки за 12 месяцев «жизни». Выделяется когорта 2017-09-01 - по ней прибыль с каждого покупателя выше, чем по остальным.\t"
   ]
  },
  {
   "cell_type": "markdown",
   "metadata": {},
   "source": [
    "### 2.3 Маркетинг"
   ]
  },
  {
   "cell_type": "markdown",
   "metadata": {},
   "source": [
    "#### Сколько денег потратили? "
   ]
  },
  {
   "cell_type": "markdown",
   "metadata": {},
   "source": [
    "Посчитаем суммарные расходы за весь период"
   ]
  },
  {
   "cell_type": "code",
   "execution_count": 45,
   "metadata": {},
   "outputs": [
    {
     "data": {
      "text/plain": [
       "329131.62"
      ]
     },
     "execution_count": 45,
     "metadata": {},
     "output_type": "execute_result"
    }
   ],
   "source": [
    "costs['costs'].sum()"
   ]
  },
  {
   "cell_type": "markdown",
   "metadata": {},
   "source": [
    "Расчитаем ежемесячные расходы и построим график."
   ]
  },
  {
   "cell_type": "code",
   "execution_count": 46,
   "metadata": {},
   "outputs": [
    {
     "data": {
      "text/plain": [
       "Text(0.5, 1.0, 'Помесячная сумма затрат')"
      ]
     },
     "execution_count": 46,
     "metadata": {},
     "output_type": "execute_result"
    },
    {
     "data": {
      "image/png": "[encoded data removed]",
      "text/plain": [
       "<Figure size 864x288 with 1 Axes>"
      ]
     },
     "metadata": {},
     "output_type": "display_data"
    }
   ],
   "source": [
    "# <Добавим столбце с месяцем затрат>\n",
    "costs['month'] = costs['dt'].astype('datetime64[M]')\n",
    "\n",
    "# <Построим график>\n",
    "costs_pivot = costs.pivot_table(index='month',values='costs',aggfunc='sum')\n",
    "costs_month_plot = costs_pivot.plot(grid=True, figsize=(12, 4)) \n",
    "plt.xlabel('Месяц затрат')\n",
    "plt.ylabel('Сумма затрат')\n",
    "plt.title('Помесячная сумма затрат')"
   ]
  },
  {
   "cell_type": "markdown",
   "metadata": {},
   "source": [
    "Посмотрим на расходы по источникам."
   ]
  },
  {
   "cell_type": "code",
   "execution_count": 47,
   "metadata": {},
   "outputs": [
    {
     "data": {
      "text/plain": [
       "Text(0.5, 1.0, 'График затрат на каждый источник')"
      ]
     },
     "execution_count": 47,
     "metadata": {},
     "output_type": "execute_result"
    },
    {
     "data": {
      "image/png": "[encoded data removed]",
      "text/plain": [
       "<Figure size 864x288 with 1 Axes>"
      ]
     },
     "metadata": {},
     "output_type": "display_data"
    }
   ],
   "source": [
    "# <Построим график>\n",
    "costs_source = costs.pivot_table(index='source_id',values='costs',aggfunc='sum')\n",
    "costs_sourse_plot = costs_source.plot(grid=True, figsize=(12, 4)) \n",
    "plt.xlabel('Источник затрат')\n",
    "plt.ylabel('Сумма затрат')\n",
    "plt.title('График затрат на каждый источник')"
   ]
  },
  {
   "cell_type": "markdown",
   "metadata": {},
   "source": [
    "#### Вывод"
   ]
  },
  {
   "cell_type": "markdown",
   "metadata": {},
   "source": [
    "Всего было затрачено 329131. Наибольшее кол-во затрат произошло в период с октября по декабрь, что можно объяснить высоким сезоном. Третий источник самый затратный, самый девешый - 9 и 10."
   ]
  },
  {
   "cell_type": "markdown",
   "metadata": {},
   "source": [
    "####  Сколько стоило привлечение одного покупателя из каждого источника? (CAC)"
   ]
  },
  {
   "cell_type": "markdown",
   "metadata": {},
   "source": [
    "Найдем САС путем деления расходов из одого рекламного источника на число новых покупателей, пришедших из этого рекламного источника. \n",
    "Первоначально посчитаем расходы по рекламным источникам:"
   ]
  },
  {
   "cell_type": "code",
   "execution_count": 48,
   "metadata": {},
   "outputs": [
    {
     "data": {
      "text/html": [
       "<div>\n",
       "<style scoped>\n",
       "    .dataframe tbody tr th:only-of-type {\n",
       "        vertical-align: middle;\n",
       "    }\n",
       "\n",
       "    .dataframe tbody tr th {\n",
       "        vertical-align: top;\n",
       "    }\n",
       "\n",
       "    .dataframe thead th {\n",
       "        text-align: right;\n",
       "    }\n",
       "</style>\n",
       "<table border=\"1\" class=\"dataframe\">\n",
       "  <thead>\n",
       "    <tr style=\"text-align: right;\">\n",
       "      <th></th>\n",
       "      <th>source_id</th>\n",
       "      <th>costs</th>\n",
       "    </tr>\n",
       "  </thead>\n",
       "  <tbody>\n",
       "    <tr>\n",
       "      <td>0</td>\n",
       "      <td>1</td>\n",
       "      <td>20833.27</td>\n",
       "    </tr>\n",
       "    <tr>\n",
       "      <td>1</td>\n",
       "      <td>2</td>\n",
       "      <td>42806.04</td>\n",
       "    </tr>\n",
       "    <tr>\n",
       "      <td>2</td>\n",
       "      <td>3</td>\n",
       "      <td>141321.63</td>\n",
       "    </tr>\n",
       "    <tr>\n",
       "      <td>3</td>\n",
       "      <td>4</td>\n",
       "      <td>61073.60</td>\n",
       "    </tr>\n",
       "    <tr>\n",
       "      <td>4</td>\n",
       "      <td>5</td>\n",
       "      <td>51757.10</td>\n",
       "    </tr>\n",
       "    <tr>\n",
       "      <td>5</td>\n",
       "      <td>9</td>\n",
       "      <td>5517.49</td>\n",
       "    </tr>\n",
       "    <tr>\n",
       "      <td>6</td>\n",
       "      <td>10</td>\n",
       "      <td>5822.49</td>\n",
       "    </tr>\n",
       "  </tbody>\n",
       "</table>\n",
       "</div>"
      ],
      "text/plain": [
       "   source_id      costs\n",
       "0          1   20833.27\n",
       "1          2   42806.04\n",
       "2          3  141321.63\n",
       "3          4   61073.60\n",
       "4          5   51757.10\n",
       "5          9    5517.49\n",
       "6         10    5822.49"
      ]
     },
     "execution_count": 48,
     "metadata": {},
     "output_type": "execute_result"
    }
   ],
   "source": [
    "# <Расходы по источникам>\n",
    "costs_source = costs.pivot_table(index=['source_id'],values='costs',aggfunc='sum').reset_index()\n",
    "costs_source"
   ]
  },
  {
   "cell_type": "markdown",
   "metadata": {},
   "source": [
    "Далее посчитаем кол-во новых покупателей по источникам:"
   ]
  },
  {
   "cell_type": "code",
   "execution_count": 49,
   "metadata": {},
   "outputs": [
    {
     "data": {
      "text/html": [
       "<div>\n",
       "<style scoped>\n",
       "    .dataframe tbody tr th:only-of-type {\n",
       "        vertical-align: middle;\n",
       "    }\n",
       "\n",
       "    .dataframe tbody tr th {\n",
       "        vertical-align: top;\n",
       "    }\n",
       "\n",
       "    .dataframe thead th {\n",
       "        text-align: right;\n",
       "    }\n",
       "</style>\n",
       "<table border=\"1\" class=\"dataframe\">\n",
       "  <thead>\n",
       "    <tr style=\"text-align: right;\">\n",
       "      <th></th>\n",
       "      <th>source_id</th>\n",
       "      <th>buyers</th>\n",
       "    </tr>\n",
       "  </thead>\n",
       "  <tbody>\n",
       "    <tr>\n",
       "      <td>0</td>\n",
       "      <td>1</td>\n",
       "      <td>3743</td>\n",
       "    </tr>\n",
       "    <tr>\n",
       "      <td>1</td>\n",
       "      <td>2</td>\n",
       "      <td>4323</td>\n",
       "    </tr>\n",
       "    <tr>\n",
       "      <td>2</td>\n",
       "      <td>3</td>\n",
       "      <td>9138</td>\n",
       "    </tr>\n",
       "    <tr>\n",
       "      <td>3</td>\n",
       "      <td>4</td>\n",
       "      <td>9823</td>\n",
       "    </tr>\n",
       "    <tr>\n",
       "      <td>4</td>\n",
       "      <td>5</td>\n",
       "      <td>6839</td>\n",
       "    </tr>\n",
       "    <tr>\n",
       "      <td>5</td>\n",
       "      <td>7</td>\n",
       "      <td>1</td>\n",
       "    </tr>\n",
       "    <tr>\n",
       "      <td>6</td>\n",
       "      <td>9</td>\n",
       "      <td>1415</td>\n",
       "    </tr>\n",
       "    <tr>\n",
       "      <td>7</td>\n",
       "      <td>10</td>\n",
       "      <td>1241</td>\n",
       "    </tr>\n",
       "  </tbody>\n",
       "</table>\n",
       "</div>"
      ],
      "text/plain": [
       "   source_id  buyers\n",
       "0          1    3743\n",
       "1          2    4323\n",
       "2          3    9138\n",
       "3          4    9823\n",
       "4          5    6839\n",
       "5          7       1\n",
       "6          9    1415\n",
       "7         10    1241"
      ]
     },
     "execution_count": 49,
     "metadata": {},
     "output_type": "execute_result"
    }
   ],
   "source": [
    "# <Считаем кол-во новых покупателей по источникам>\n",
    "first_source_per_user = visits.groupby('uid').agg({'source id': 'first'})\n",
    "client_per_source = orders.merge(first_source_per_user, on='uid')\n",
    "client_per_source = client_per_source.groupby('source id').agg({'uid': 'nunique'}).reset_index()\n",
    "client_per_source = client_per_source.rename(columns={'source id':'source_id','uid':'buyers'})\n",
    "client_per_source"
   ]
  },
  {
   "cell_type": "markdown",
   "metadata": {},
   "source": [
    "Совместим вместе таблицы и расчитаем САС"
   ]
  },
  {
   "cell_type": "code",
   "execution_count": 50,
   "metadata": {},
   "outputs": [
    {
     "data": {
      "text/html": [
       "<div>\n",
       "<style scoped>\n",
       "    .dataframe tbody tr th:only-of-type {\n",
       "        vertical-align: middle;\n",
       "    }\n",
       "\n",
       "    .dataframe tbody tr th {\n",
       "        vertical-align: top;\n",
       "    }\n",
       "\n",
       "    .dataframe thead th {\n",
       "        text-align: right;\n",
       "    }\n",
       "</style>\n",
       "<table border=\"1\" class=\"dataframe\">\n",
       "  <thead>\n",
       "    <tr style=\"text-align: right;\">\n",
       "      <th></th>\n",
       "      <th>source_id</th>\n",
       "      <th>costs</th>\n",
       "      <th>buyers</th>\n",
       "      <th>cac</th>\n",
       "    </tr>\n",
       "  </thead>\n",
       "  <tbody>\n",
       "    <tr>\n",
       "      <td>0</td>\n",
       "      <td>1</td>\n",
       "      <td>20833.27</td>\n",
       "      <td>3743</td>\n",
       "      <td>5.57</td>\n",
       "    </tr>\n",
       "    <tr>\n",
       "      <td>1</td>\n",
       "      <td>2</td>\n",
       "      <td>42806.04</td>\n",
       "      <td>4323</td>\n",
       "      <td>9.90</td>\n",
       "    </tr>\n",
       "    <tr>\n",
       "      <td>2</td>\n",
       "      <td>3</td>\n",
       "      <td>141321.63</td>\n",
       "      <td>9138</td>\n",
       "      <td>15.47</td>\n",
       "    </tr>\n",
       "    <tr>\n",
       "      <td>3</td>\n",
       "      <td>4</td>\n",
       "      <td>61073.60</td>\n",
       "      <td>9823</td>\n",
       "      <td>6.22</td>\n",
       "    </tr>\n",
       "    <tr>\n",
       "      <td>4</td>\n",
       "      <td>5</td>\n",
       "      <td>51757.10</td>\n",
       "      <td>6839</td>\n",
       "      <td>7.57</td>\n",
       "    </tr>\n",
       "    <tr>\n",
       "      <td>5</td>\n",
       "      <td>9</td>\n",
       "      <td>5517.49</td>\n",
       "      <td>1415</td>\n",
       "      <td>3.90</td>\n",
       "    </tr>\n",
       "    <tr>\n",
       "      <td>6</td>\n",
       "      <td>10</td>\n",
       "      <td>5822.49</td>\n",
       "      <td>1241</td>\n",
       "      <td>4.69</td>\n",
       "    </tr>\n",
       "  </tbody>\n",
       "</table>\n",
       "</div>"
      ],
      "text/plain": [
       "   source_id      costs  buyers    cac\n",
       "0          1   20833.27    3743   5.57\n",
       "1          2   42806.04    4323   9.90\n",
       "2          3  141321.63    9138  15.47\n",
       "3          4   61073.60    9823   6.22\n",
       "4          5   51757.10    6839   7.57\n",
       "5          9    5517.49    1415   3.90\n",
       "6         10    5822.49    1241   4.69"
      ]
     },
     "execution_count": 50,
     "metadata": {},
     "output_type": "execute_result"
    }
   ],
   "source": [
    "# <Раcсчитываем САС>\n",
    "report_new = pd.merge(costs_source, client_per_source, on='source_id')\n",
    "report_new['cac'] = (report_new['costs'] / report_new['buyers']).round(2)\n",
    "report_new"
   ]
  },
  {
   "cell_type": "code",
   "execution_count": 51,
   "metadata": {},
   "outputs": [
    {
     "data": {
      "text/plain": [
       "count     7.00\n",
       "mean      7.62\n",
       "std       3.99\n",
       "min       3.90\n",
       "25%       5.13\n",
       "50%       6.22\n",
       "75%       8.74\n",
       "max      15.47\n",
       "Name: cac, dtype: float64"
      ]
     },
     "execution_count": 51,
     "metadata": {},
     "output_type": "execute_result"
    }
   ],
   "source": [
    "# <Расчитываем среднее значение и разброс САС>\n",
    "cac_mean = report_new['cac'].describe().round(2)\n",
    "cac_mean"
   ]
  },
  {
   "cell_type": "markdown",
   "metadata": {},
   "source": [
    "#### Вывод"
   ]
  },
  {
   "cell_type": "markdown",
   "metadata": {},
   "source": [
    "Среднее цена привлечения одного покупателя по источникам равняется 7,6. Минимальная цена привлечение одного покупателя из источника 9, но из него же и меньше всего кол-во привлеченных людей. Следует обратить внимания на источники 1 и 4, они наиболее оптимальные."
   ]
  },
  {
   "cell_type": "markdown",
   "metadata": {},
   "source": [
    "#### На сколько окупились расходы?"
   ]
  },
  {
   "cell_type": "markdown",
   "metadata": {},
   "source": [
    "Рассчитаем ROMI: поделим LTV на CAC."
   ]
  },
  {
   "cell_type": "code",
   "execution_count": 52,
   "metadata": {},
   "outputs": [],
   "source": [
    "# <Расходы по месяцам>\n",
    "costs_source = costs.pivot_table(index=['month'],values='costs',aggfunc='sum').reset_index()\n",
    "\n",
    "# <Расчитываем САС>\n",
    "cac = pd.merge(report, costs_source, left_on='first_order_month', right_on=['month'])\n",
    "cac['cac'] = cac['costs'] / cac['buyers']\n",
    "\n",
    "# <Рассчитаем ROMI>\n",
    "cac['romi'] = cac['ltv'] / cac['cac']\n",
    "romi = cac.pivot_table(\n",
    "        index='first_order_month', \n",
    "        columns='age', \n",
    "        values='romi', \n",
    "        aggfunc='mean')\n",
    "\n",
    "# <Среднее по строке ROMI>\n",
    "#romi.loc[:, 'ROMI'] = romi.mean(axis=1)"
   ]
  },
  {
   "cell_type": "code",
   "execution_count": 53,
   "metadata": {},
   "outputs": [
    {
     "data": {
      "text/plain": [
       "[Text(0, 0.5, '2017-06-01'),\n",
       " Text(0, 1.5, '2017-07-01'),\n",
       " Text(0, 2.5, '2017-08-01'),\n",
       " Text(0, 3.5, '2017-09-01'),\n",
       " Text(0, 4.5, '2017-10-01'),\n",
       " Text(0, 5.5, '2017-11-01'),\n",
       " Text(0, 6.5, '2017-12-01'),\n",
       " Text(0, 7.5, '2018-01-01'),\n",
       " Text(0, 8.5, '2018-02-01'),\n",
       " Text(0, 9.5, '2018-03-01'),\n",
       " Text(0, 10.5, '2018-04-01'),\n",
       " Text(0, 11.5, '2018-05-01')]"
      ]
     },
     "execution_count": 53,
     "metadata": {},
     "output_type": "execute_result"
    },
    {
     "data": {
      "image/png": "[encoded data removed]",
      "text/plain": [
       "<Figure size 1224x432 with 2 Axes>"
      ]
     },
     "metadata": {},
     "output_type": "display_data"
    }
   ],
   "source": [
    "# <Создание тепловой карты>\n",
    "sns.set(style='white')\n",
    "plt.figure(figsize=(17, 6))\n",
    "plt.title('ROMI')\n",
    "ax = sns.heatmap(romi.cumsum(axis=1), annot=True, fmt='.2f', linewidths=1);\n",
    "ax.set_yticklabels(retention_pivot.index.date)"
   ]
  },
  {
   "cell_type": "code",
   "execution_count": 54,
   "metadata": {},
   "outputs": [
    {
     "data": {
      "text/plain": [
       "age\n",
       "0    0.54\n",
       "1    0.58\n",
       "2    0.63\n",
       "3    0.72\n",
       "4    0.78\n",
       "5    0.86\n",
       "6    0.90\n",
       "7    0.97\n",
       "8    1.05\n",
       "dtype: float64"
      ]
     },
     "execution_count": 54,
     "metadata": {},
     "output_type": "execute_result"
    }
   ],
   "source": [
    "# <Усредним значения по каждой колонки и «сложим» таблицу в единую строку>\n",
    "romi.iloc[:, :9].cumsum(axis=1).mean(axis=0).round(2)"
   ]
  },
  {
   "cell_type": "code",
   "execution_count": 55,
   "metadata": {},
   "outputs": [
    {
     "data": {
      "text/plain": [
       "7.97"
      ]
     },
     "execution_count": 55,
     "metadata": {},
     "output_type": "execute_result"
    }
   ],
   "source": [
    "# <Примем за 6 мес. жизненный цикл и найдем среднее значение LTV>\n",
    "LTV_mean = output.iloc[:7, :6]\n",
    "LTV_mean.loc[:, 'LTV_sum'] = LTV_mean.sum(axis=1)\n",
    "LTV_mean['LTV_sum'].mean().round(2)"
   ]
  },
  {
   "cell_type": "code",
   "execution_count": 56,
   "metadata": {},
   "outputs": [
    {
     "data": {
      "text/html": [
       "<div>\n",
       "<style scoped>\n",
       "    .dataframe tbody tr th:only-of-type {\n",
       "        vertical-align: middle;\n",
       "    }\n",
       "\n",
       "    .dataframe tbody tr th {\n",
       "        vertical-align: top;\n",
       "    }\n",
       "\n",
       "    .dataframe thead th {\n",
       "        text-align: right;\n",
       "    }\n",
       "</style>\n",
       "<table border=\"1\" class=\"dataframe\">\n",
       "  <thead>\n",
       "    <tr style=\"text-align: right;\">\n",
       "      <th></th>\n",
       "      <th>source_id</th>\n",
       "      <th>costs</th>\n",
       "      <th>buyers</th>\n",
       "      <th>cac</th>\n",
       "      <th>ltv_mean</th>\n",
       "      <th>romi</th>\n",
       "    </tr>\n",
       "  </thead>\n",
       "  <tbody>\n",
       "    <tr>\n",
       "      <td>5</td>\n",
       "      <td>9</td>\n",
       "      <td>5517.49</td>\n",
       "      <td>1415</td>\n",
       "      <td>3.90</td>\n",
       "      <td>7.97</td>\n",
       "      <td>2.04</td>\n",
       "    </tr>\n",
       "    <tr>\n",
       "      <td>6</td>\n",
       "      <td>10</td>\n",
       "      <td>5822.49</td>\n",
       "      <td>1241</td>\n",
       "      <td>4.69</td>\n",
       "      <td>7.97</td>\n",
       "      <td>1.70</td>\n",
       "    </tr>\n",
       "    <tr>\n",
       "      <td>0</td>\n",
       "      <td>1</td>\n",
       "      <td>20833.27</td>\n",
       "      <td>3743</td>\n",
       "      <td>5.57</td>\n",
       "      <td>7.97</td>\n",
       "      <td>1.43</td>\n",
       "    </tr>\n",
       "    <tr>\n",
       "      <td>3</td>\n",
       "      <td>4</td>\n",
       "      <td>61073.60</td>\n",
       "      <td>9823</td>\n",
       "      <td>6.22</td>\n",
       "      <td>7.97</td>\n",
       "      <td>1.28</td>\n",
       "    </tr>\n",
       "    <tr>\n",
       "      <td>4</td>\n",
       "      <td>5</td>\n",
       "      <td>51757.10</td>\n",
       "      <td>6839</td>\n",
       "      <td>7.57</td>\n",
       "      <td>7.97</td>\n",
       "      <td>1.05</td>\n",
       "    </tr>\n",
       "    <tr>\n",
       "      <td>1</td>\n",
       "      <td>2</td>\n",
       "      <td>42806.04</td>\n",
       "      <td>4323</td>\n",
       "      <td>9.90</td>\n",
       "      <td>7.97</td>\n",
       "      <td>0.81</td>\n",
       "    </tr>\n",
       "    <tr>\n",
       "      <td>2</td>\n",
       "      <td>3</td>\n",
       "      <td>141321.63</td>\n",
       "      <td>9138</td>\n",
       "      <td>15.47</td>\n",
       "      <td>7.97</td>\n",
       "      <td>0.52</td>\n",
       "    </tr>\n",
       "  </tbody>\n",
       "</table>\n",
       "</div>"
      ],
      "text/plain": [
       "   source_id      costs  buyers    cac  ltv_mean  romi\n",
       "5          9    5517.49    1415   3.90      7.97  2.04\n",
       "6         10    5822.49    1241   4.69      7.97  1.70\n",
       "0          1   20833.27    3743   5.57      7.97  1.43\n",
       "3          4   61073.60    9823   6.22      7.97  1.28\n",
       "4          5   51757.10    6839   7.57      7.97  1.05\n",
       "1          2   42806.04    4323   9.90      7.97  0.81\n",
       "2          3  141321.63    9138  15.47      7.97  0.52"
      ]
     },
     "execution_count": 56,
     "metadata": {},
     "output_type": "execute_result"
    }
   ],
   "source": [
    "# <Рассчитаем ROMI по источникам>\n",
    "report_new['ltv_mean'] = 7.97\n",
    "report_new['romi'] = (report_new['ltv_mean'] / report_new['cac']).round(2)\n",
    "report_new.sort_values(by='romi', ascending=False)"
   ]
  },
  {
   "cell_type": "markdown",
   "metadata": {},
   "source": [
    "#### Вывод"
   ]
  },
  {
   "cell_type": "markdown",
   "metadata": {},
   "source": [
    "По ROMI видно, что в среднем когорты окупаются к концу 8 месяца. Самыми окупаемыми источниками оказались 5, 6 и 0."
   ]
  },
  {
   "cell_type": "markdown",
   "metadata": {},
   "source": [
    "#### Отобразите на графиках, как эти метрики отличаются по устройствам и по рекламным источникам? Как они меняются во времени"
   ]
  },
  {
   "cell_type": "markdown",
   "metadata": {},
   "source": [
    "Построим график количества визитов по устройствам."
   ]
  },
  {
   "cell_type": "code",
   "execution_count": 57,
   "metadata": {},
   "outputs": [
    {
     "data": {
      "text/plain": [
       "Text(0.5, 1.0, 'График количества визитов по устройствам')"
      ]
     },
     "execution_count": 57,
     "metadata": {},
     "output_type": "execute_result"
    },
    {
     "data": {
      "image/png": "[encoded data removed]",
      "text/plain": [
       "<Figure size 1152x288 with 1 Axes>"
      ]
     },
     "metadata": {},
     "output_type": "display_data"
    }
   ],
   "source": [
    "# <График количества визитов по устройствам>\n",
    "device_plot = visits.pivot_table(index='session_month', columns='device', values='uid', aggfunc='count').plot(grid=True, kind='bar', figsize=(16, 4))\n",
    "plt.xlabel('Месяц визита')\n",
    "plt.ylabel('Количество визитов')\n",
    "plt.title('График количества визитов по устройствам')"
   ]
  },
  {
   "cell_type": "markdown",
   "metadata": {},
   "source": [
    "По графику видно, что с компьютера заходят примерно раза в 2,5 чаще, чем с мобильных устройств."
   ]
  },
  {
   "cell_type": "markdown",
   "metadata": {},
   "source": [
    "Построим графики по рекламным источникам."
   ]
  },
  {
   "cell_type": "code",
   "execution_count": 58,
   "metadata": {},
   "outputs": [
    {
     "data": {
      "text/plain": [
       "<matplotlib.axes._subplots.AxesSubplot at 0x7fe519b41810>"
      ]
     },
     "execution_count": 58,
     "metadata": {},
     "output_type": "execute_result"
    },
    {
     "data": {
      "image/png": "[encoded data removed]",
      "text/plain": [
       "<Figure size 1152x288 with 1 Axes>"
      ]
     },
     "metadata": {},
     "output_type": "display_data"
    }
   ],
   "source": [
    "# <График выручки по реклманым источникам>\n",
    "report_new.pivot_table(index='source_id', values='costs', aggfunc='sum').plot(grid=True, kind='bar', figsize=(16, 4))"
   ]
  },
  {
   "cell_type": "code",
   "execution_count": 59,
   "metadata": {},
   "outputs": [
    {
     "data": {
      "text/plain": [
       "<matplotlib.axes._subplots.AxesSubplot at 0x7fe520467ed0>"
      ]
     },
     "execution_count": 59,
     "metadata": {},
     "output_type": "execute_result"
    },
    {
     "data": {
      "image/png": "[encoded data removed]",
      "text/plain": [
       "<Figure size 1152x288 with 1 Axes>"
      ]
     },
     "metadata": {},
     "output_type": "display_data"
    }
   ],
   "source": [
    "# <График CAC по реклманым источникам>\n",
    "report_new.pivot_table(index='source_id', values='cac', aggfunc='sum').plot(grid=True, kind='bar', figsize=(16, 4))"
   ]
  },
  {
   "cell_type": "markdown",
   "metadata": {},
   "source": [
    "Построим таблицу изменений метрик по времени"
   ]
  },
  {
   "cell_type": "code",
   "execution_count": 60,
   "metadata": {},
   "outputs": [
    {
     "data": {
      "text/html": [
       "<div>\n",
       "<style scoped>\n",
       "    .dataframe tbody tr th:only-of-type {\n",
       "        vertical-align: middle;\n",
       "    }\n",
       "\n",
       "    .dataframe tbody tr th {\n",
       "        vertical-align: top;\n",
       "    }\n",
       "\n",
       "    .dataframe thead th {\n",
       "        text-align: right;\n",
       "    }\n",
       "</style>\n",
       "<table border=\"1\" class=\"dataframe\">\n",
       "  <thead>\n",
       "    <tr style=\"text-align: right;\">\n",
       "      <th></th>\n",
       "      <th>first_order_month</th>\n",
       "      <th>revenue</th>\n",
       "      <th>buyers</th>\n",
       "      <th>LTV</th>\n",
       "    </tr>\n",
       "  </thead>\n",
       "  <tbody>\n",
       "    <tr>\n",
       "      <td>0</td>\n",
       "      <td>2017-06-01</td>\n",
       "      <td>24031.69</td>\n",
       "      <td>2023</td>\n",
       "      <td>11.88</td>\n",
       "    </tr>\n",
       "    <tr>\n",
       "      <td>1</td>\n",
       "      <td>2017-07-01</td>\n",
       "      <td>16127.92</td>\n",
       "      <td>1923</td>\n",
       "      <td>8.40</td>\n",
       "    </tr>\n",
       "    <tr>\n",
       "      <td>2</td>\n",
       "      <td>2017-08-01</td>\n",
       "      <td>11606.26</td>\n",
       "      <td>1370</td>\n",
       "      <td>8.47</td>\n",
       "    </tr>\n",
       "    <tr>\n",
       "      <td>3</td>\n",
       "      <td>2017-09-01</td>\n",
       "      <td>34676.32</td>\n",
       "      <td>2581</td>\n",
       "      <td>13.43</td>\n",
       "    </tr>\n",
       "    <tr>\n",
       "      <td>4</td>\n",
       "      <td>2017-10-01</td>\n",
       "      <td>27603.45</td>\n",
       "      <td>4340</td>\n",
       "      <td>6.36</td>\n",
       "    </tr>\n",
       "    <tr>\n",
       "      <td>5</td>\n",
       "      <td>2017-11-01</td>\n",
       "      <td>26098.99</td>\n",
       "      <td>4081</td>\n",
       "      <td>6.38</td>\n",
       "    </tr>\n",
       "  </tbody>\n",
       "</table>\n",
       "</div>"
      ],
      "text/plain": [
       "  first_order_month   revenue  buyers    LTV\n",
       "0        2017-06-01  24031.69    2023  11.88\n",
       "1        2017-07-01  16127.92    1923   8.40\n",
       "2        2017-08-01  11606.26    1370   8.47\n",
       "3        2017-09-01  34676.32    2581  13.43\n",
       "4        2017-10-01  27603.45    4340   6.36\n",
       "5        2017-11-01  26098.99    4081   6.38"
      ]
     },
     "execution_count": 60,
     "metadata": {},
     "output_type": "execute_result"
    }
   ],
   "source": [
    "# <Таблица изменений метрик по времени>\n",
    "report = report.pivot_table(index=['first_order_month'],values='revenue',aggfunc='sum')\n",
    "output.loc[:, 'LTV'] = output.sum(axis=1)\n",
    "ltv = output['LTV'].round(2).to_frame()\n",
    "#romi.loc[:, 'ROMI'] = romi.mean(axis=1)\n",
    "#romi = romi['ROMI'].round(2).to_frame()\n",
    "summary = report.merge(cohort_sizes, on='first_order_month')\n",
    "summary = summary.merge(ltv, on='first_order_month')\n",
    "#summary = summary.merge(romi, on='first_order_month')\n",
    "summary.iloc[:6, :]"
   ]
  },
  {
   "cell_type": "markdown",
   "metadata": {},
   "source": [
    "### Шаг 3. Общий вывод"
   ]
  },
  {
   "cell_type": "markdown",
   "metadata": {},
   "source": [
    "По проведенному анализу можно сделать выводы:\n",
    "- Retention Rate в первый месяц убывает по когортам с течением времени. Если для когорты пользователей, пришедших в июне 2017 Retention Rate в первый месяц составляет 7,9%, то для пользователей, пришедших в апреле 2018 — уже 4,8%. Так, за 11 месяцев коэффициент удержания упал на 3,1%. Это говорит, что с каждой новой когортой поведение покупателей меняется. Возможно, были выбраны неэффективные источники трафика или ухудшилось качество работы службы поддержки;\n",
    "- Среднее цена привлечения одного покупателя по источникам равняется 7,6. Минимальная цена привлечение одного покупателя из источника 9, но из него же и меньше всего кол-во привлеченных людей. Следует обратить внимания на источники 1 и 4, они наиболее оптимальные;\n",
    "- В среднем каждый покупатель из первой когорты принес по 11,88 рублей выручки за 12 месяцев «жизни». Выделяется когорта 2017-09-01 - по ней прибыль с каждого покупателя выше, чем по остальным;\t\n",
    "- По ROMI видно, что в среднем когорты окупаются к концу 8 месяца. Самыми окупаемыми источниками оказались 5, 6 и 0.\n",
    "- С компьютера заходят примерно раза в 2,5 чаще, чем с мобильных устройств. Рекомендуется больше уделять внимание этим пользователям."
   ]
  }
 ],
 "metadata": {
  "kernelspec": {
   "display_name": "Python 3",
   "language": "python",
   "name": "python3"
  },
  "language_info": {
   "codemirror_mode": {
    "name": "ipython",
    "version": 3
   },
   "file_extension": ".py",
   "mimetype": "text/x-python",
   "name": "python",
   "nbconvert_exporter": "python",
   "pygments_lexer": "ipython3",
   "version": "3.7.6"
  }
 },
 "nbformat": 4,
 "nbformat_minor": 2
}
